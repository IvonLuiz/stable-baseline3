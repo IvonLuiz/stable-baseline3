{
 "cells": [
  {
   "cell_type": "markdown",
   "metadata": {
    "colab_type": "text",
    "id": "view-in-github"
   },
   "source": [
    "<a href=\"https://colab.research.google.com/github/araffin/rl-tutorial-jnrr19/blob/sb3/3_multiprocessing.ipynb\" target=\"_parent\"><img src=\"https://colab.research.google.com/assets/colab-badge.svg\" alt=\"Open In Colab\"/></a>"
   ]
  },
  {
   "cell_type": "markdown",
   "metadata": {
    "colab_type": "text",
    "id": "KnPeMWYi0vAx"
   },
   "source": [
    "# Stable Baselines3 Tutorial - Multiprocessing of environments\n",
    "\n",
    "Github repo: https://github.com/araffin/rl-tutorial-jnrr19/tree/sb3/\n",
    "\n",
    "Stable-Baselines3: https://github.com/DLR-RM/stable-baselines3\n",
    "\n",
    "Documentation: https://stable-baselines3.readthedocs.io/en/master/\n",
    "\n",
    "SB3-Contrib: https://github.com/Stable-Baselines-Team/stable-baselines3-contrib\n",
    "\n",
    "RL Baselines3 zoo: https://github.com/DLR-RM/rl-baselines3-zoo\n",
    "\n",
    "\n",
    "## Introduction\n",
    "\n",
    "In this notebook, you will learn how to use *Vectorized Environments* (aka multiprocessing) to make training faster. You will also see that this speed up comes at a cost of sample efficiency.\n",
    "\n",
    "## Install Dependencies and Stable Baselines3 Using Pip"
   ]
  },
  {
   "cell_type": "code",
   "execution_count": 1,
   "metadata": {},
   "outputs": [],
   "source": [
    "# for autoformatting\n",
    "# %load_ext jupyter_black"
   ]
  },
  {
   "cell_type": "code",
   "execution_count": 1,
   "metadata": {
    "colab": {},
    "colab_type": "code",
    "id": "ClRYNMkVvpUX"
   },
   "outputs": [
    {
     "name": "stderr",
     "output_type": "stream",
     "text": [
      "'apt' n�o � reconhecido como um comando interno\n",
      "ou externo, um programa oper�vel ou um arquivo em lotes.\n"
     ]
    },
    {
     "name": "stdout",
     "output_type": "stream",
     "text": [
      "Collecting stable-baselines3>=2.0.0a4 (from stable-baselines3[extra]>=2.0.0a4)\n",
      "  Downloading stable_baselines3-2.5.0a1-py3-none-any.whl.metadata (4.5 kB)\n",
      "Collecting gymnasium<1.1.0,>=0.29.1 (from stable-baselines3>=2.0.0a4->stable-baselines3[extra]>=2.0.0a4)\n",
      "  Downloading gymnasium-1.0.0-py3-none-any.whl.metadata (9.5 kB)\n",
      "Collecting numpy<3.0,>=1.20 (from stable-baselines3>=2.0.0a4->stable-baselines3[extra]>=2.0.0a4)\n",
      "  Using cached numpy-2.2.1-cp311-cp311-win_amd64.whl.metadata (60 kB)\n",
      "Collecting torch<3.0,>=2.3 (from stable-baselines3>=2.0.0a4->stable-baselines3[extra]>=2.0.0a4)\n",
      "  Using cached torch-2.5.1-cp311-cp311-win_amd64.whl.metadata (28 kB)\n",
      "Collecting cloudpickle (from stable-baselines3>=2.0.0a4->stable-baselines3[extra]>=2.0.0a4)\n",
      "  Downloading cloudpickle-3.1.1-py3-none-any.whl.metadata (7.1 kB)\n",
      "Collecting pandas (from stable-baselines3>=2.0.0a4->stable-baselines3[extra]>=2.0.0a4)\n",
      "  Using cached pandas-2.2.3-cp311-cp311-win_amd64.whl.metadata (19 kB)\n",
      "Collecting matplotlib (from stable-baselines3>=2.0.0a4->stable-baselines3[extra]>=2.0.0a4)\n",
      "  Downloading matplotlib-3.10.0-cp311-cp311-win_amd64.whl.metadata (11 kB)\n",
      "Collecting opencv-python (from stable-baselines3[extra]>=2.0.0a4)\n",
      "  Using cached opencv_python-4.10.0.84-cp37-abi3-win_amd64.whl.metadata (20 kB)\n",
      "Collecting pygame (from stable-baselines3[extra]>=2.0.0a4)\n",
      "  Downloading pygame-2.6.1-cp311-cp311-win_amd64.whl.metadata (13 kB)\n",
      "Collecting tensorboard>=2.9.1 (from stable-baselines3[extra]>=2.0.0a4)\n",
      "  Using cached tensorboard-2.18.0-py3-none-any.whl.metadata (1.6 kB)\n",
      "Requirement already satisfied: psutil in d:\\code\\data science\\stable-baseline3\\.venv\\lib\\site-packages (from stable-baselines3[extra]>=2.0.0a4) (6.1.1)\n",
      "Collecting tqdm (from stable-baselines3[extra]>=2.0.0a4)\n",
      "  Using cached tqdm-4.67.1-py3-none-any.whl.metadata (57 kB)\n",
      "Collecting rich (from stable-baselines3[extra]>=2.0.0a4)\n",
      "  Using cached rich-13.9.4-py3-none-any.whl.metadata (18 kB)\n",
      "Collecting ale-py>=0.9.0 (from stable-baselines3[extra]>=2.0.0a4)\n",
      "  Downloading ale_py-0.10.1-cp311-cp311-win_amd64.whl.metadata (7.8 kB)\n",
      "Collecting pillow (from stable-baselines3[extra]>=2.0.0a4)\n",
      "  Downloading pillow-11.1.0-cp311-cp311-win_amd64.whl.metadata (9.3 kB)\n",
      "Requirement already satisfied: typing-extensions>=4.3.0 in d:\\code\\data science\\stable-baseline3\\.venv\\lib\\site-packages (from gymnasium<1.1.0,>=0.29.1->stable-baselines3>=2.0.0a4->stable-baselines3[extra]>=2.0.0a4) (4.12.2)\n",
      "Collecting farama-notifications>=0.0.1 (from gymnasium<1.1.0,>=0.29.1->stable-baselines3>=2.0.0a4->stable-baselines3[extra]>=2.0.0a4)\n",
      "  Downloading Farama_Notifications-0.0.4-py3-none-any.whl.metadata (558 bytes)\n",
      "Collecting absl-py>=0.4 (from tensorboard>=2.9.1->stable-baselines3[extra]>=2.0.0a4)\n",
      "  Using cached absl_py-2.1.0-py3-none-any.whl.metadata (2.3 kB)\n",
      "Collecting grpcio>=1.48.2 (from tensorboard>=2.9.1->stable-baselines3[extra]>=2.0.0a4)\n",
      "  Using cached grpcio-1.69.0-cp311-cp311-win_amd64.whl.metadata (4.0 kB)\n",
      "Collecting markdown>=2.6.8 (from tensorboard>=2.9.1->stable-baselines3[extra]>=2.0.0a4)\n",
      "  Using cached Markdown-3.7-py3-none-any.whl.metadata (7.0 kB)\n",
      "Requirement already satisfied: packaging in d:\\code\\data science\\stable-baseline3\\.venv\\lib\\site-packages (from tensorboard>=2.9.1->stable-baselines3[extra]>=2.0.0a4) (24.2)\n",
      "Collecting protobuf!=4.24.0,>=3.19.6 (from tensorboard>=2.9.1->stable-baselines3[extra]>=2.0.0a4)\n",
      "  Downloading protobuf-5.29.3-cp310-abi3-win_amd64.whl.metadata (592 bytes)\n",
      "Requirement already satisfied: setuptools>=41.0.0 in d:\\code\\data science\\stable-baseline3\\.venv\\lib\\site-packages (from tensorboard>=2.9.1->stable-baselines3[extra]>=2.0.0a4) (65.5.0)\n",
      "Requirement already satisfied: six>1.9 in d:\\code\\data science\\stable-baseline3\\.venv\\lib\\site-packages (from tensorboard>=2.9.1->stable-baselines3[extra]>=2.0.0a4) (1.17.0)\n",
      "Collecting tensorboard-data-server<0.8.0,>=0.7.0 (from tensorboard>=2.9.1->stable-baselines3[extra]>=2.0.0a4)\n",
      "  Using cached tensorboard_data_server-0.7.2-py3-none-any.whl.metadata (1.1 kB)\n",
      "Collecting werkzeug>=1.0.1 (from tensorboard>=2.9.1->stable-baselines3[extra]>=2.0.0a4)\n",
      "  Using cached werkzeug-3.1.3-py3-none-any.whl.metadata (3.7 kB)\n",
      "Collecting filelock (from torch<3.0,>=2.3->stable-baselines3>=2.0.0a4->stable-baselines3[extra]>=2.0.0a4)\n",
      "  Using cached filelock-3.16.1-py3-none-any.whl.metadata (2.9 kB)\n",
      "Collecting networkx (from torch<3.0,>=2.3->stable-baselines3>=2.0.0a4->stable-baselines3[extra]>=2.0.0a4)\n",
      "  Using cached networkx-3.4.2-py3-none-any.whl.metadata (6.3 kB)\n",
      "Collecting jinja2 (from torch<3.0,>=2.3->stable-baselines3>=2.0.0a4->stable-baselines3[extra]>=2.0.0a4)\n",
      "  Downloading jinja2-3.1.5-py3-none-any.whl.metadata (2.6 kB)\n",
      "Collecting fsspec (from torch<3.0,>=2.3->stable-baselines3>=2.0.0a4->stable-baselines3[extra]>=2.0.0a4)\n",
      "  Downloading fsspec-2024.12.0-py3-none-any.whl.metadata (11 kB)\n",
      "Collecting sympy==1.13.1 (from torch<3.0,>=2.3->stable-baselines3>=2.0.0a4->stable-baselines3[extra]>=2.0.0a4)\n",
      "  Using cached sympy-1.13.1-py3-none-any.whl.metadata (12 kB)\n",
      "Collecting mpmath<1.4,>=1.1.0 (from sympy==1.13.1->torch<3.0,>=2.3->stable-baselines3>=2.0.0a4->stable-baselines3[extra]>=2.0.0a4)\n",
      "  Using cached mpmath-1.3.0-py3-none-any.whl.metadata (8.6 kB)\n",
      "Collecting contourpy>=1.0.1 (from matplotlib->stable-baselines3>=2.0.0a4->stable-baselines3[extra]>=2.0.0a4)\n",
      "  Using cached contourpy-1.3.1-cp311-cp311-win_amd64.whl.metadata (5.4 kB)\n",
      "Collecting cycler>=0.10 (from matplotlib->stable-baselines3>=2.0.0a4->stable-baselines3[extra]>=2.0.0a4)\n",
      "  Using cached cycler-0.12.1-py3-none-any.whl.metadata (3.8 kB)\n",
      "Collecting fonttools>=4.22.0 (from matplotlib->stable-baselines3>=2.0.0a4->stable-baselines3[extra]>=2.0.0a4)\n",
      "  Using cached fonttools-4.55.3-cp311-cp311-win_amd64.whl.metadata (168 kB)\n",
      "Collecting kiwisolver>=1.3.1 (from matplotlib->stable-baselines3>=2.0.0a4->stable-baselines3[extra]>=2.0.0a4)\n",
      "  Downloading kiwisolver-1.4.8-cp311-cp311-win_amd64.whl.metadata (6.3 kB)\n",
      "Collecting pyparsing>=2.3.1 (from matplotlib->stable-baselines3>=2.0.0a4->stable-baselines3[extra]>=2.0.0a4)\n",
      "  Downloading pyparsing-3.2.1-py3-none-any.whl.metadata (5.0 kB)\n",
      "Requirement already satisfied: python-dateutil>=2.7 in d:\\code\\data science\\stable-baseline3\\.venv\\lib\\site-packages (from matplotlib->stable-baselines3>=2.0.0a4->stable-baselines3[extra]>=2.0.0a4) (2.9.0.post0)\n",
      "Collecting pytz>=2020.1 (from pandas->stable-baselines3>=2.0.0a4->stable-baselines3[extra]>=2.0.0a4)\n",
      "  Using cached pytz-2024.2-py2.py3-none-any.whl.metadata (22 kB)\n",
      "Collecting tzdata>=2022.7 (from pandas->stable-baselines3>=2.0.0a4->stable-baselines3[extra]>=2.0.0a4)\n",
      "  Using cached tzdata-2024.2-py2.py3-none-any.whl.metadata (1.4 kB)\n",
      "Collecting markdown-it-py>=2.2.0 (from rich->stable-baselines3[extra]>=2.0.0a4)\n",
      "  Using cached markdown_it_py-3.0.0-py3-none-any.whl.metadata (6.9 kB)\n",
      "Requirement already satisfied: pygments<3.0.0,>=2.13.0 in d:\\code\\data science\\stable-baseline3\\.venv\\lib\\site-packages (from rich->stable-baselines3[extra]>=2.0.0a4) (2.19.1)\n",
      "Requirement already satisfied: colorama in d:\\code\\data science\\stable-baseline3\\.venv\\lib\\site-packages (from tqdm->stable-baselines3[extra]>=2.0.0a4) (0.4.6)\n",
      "Collecting mdurl~=0.1 (from markdown-it-py>=2.2.0->rich->stable-baselines3[extra]>=2.0.0a4)\n",
      "  Using cached mdurl-0.1.2-py3-none-any.whl.metadata (1.6 kB)\n",
      "Collecting MarkupSafe>=2.1.1 (from werkzeug>=1.0.1->tensorboard>=2.9.1->stable-baselines3[extra]>=2.0.0a4)\n",
      "  Using cached MarkupSafe-3.0.2-cp311-cp311-win_amd64.whl.metadata (4.1 kB)\n",
      "Downloading stable_baselines3-2.5.0a1-py3-none-any.whl (183 kB)\n",
      "   ---------------------------------------- 0.0/183.9 kB ? eta -:--:--\n",
      "   --------------- ------------------------ 71.7/183.9 kB 2.0 MB/s eta 0:00:01\n",
      "   ---------------------------------------- 183.9/183.9 kB 3.7 MB/s eta 0:00:00\n",
      "Downloading ale_py-0.10.1-cp311-cp311-win_amd64.whl (1.4 MB)\n",
      "   ---------------------------------------- 0.0/1.4 MB ? eta -:--:--\n",
      "   ------------- -------------------------- 0.5/1.4 MB 14.5 MB/s eta 0:00:01\n",
      "   ------------------------------ --------- 1.0/1.4 MB 13.3 MB/s eta 0:00:01\n",
      "   ---------------------------------------- 1.4/1.4 MB 11.0 MB/s eta 0:00:00\n",
      "Downloading gymnasium-1.0.0-py3-none-any.whl (958 kB)\n",
      "   ---------------------------------------- 0.0/958.1 kB ? eta -:--:--\n",
      "   --------------------------------------- 958.1/958.1 kB 63.2 MB/s eta 0:00:00\n",
      "Downloading cloudpickle-3.1.1-py3-none-any.whl (20 kB)\n",
      "Using cached numpy-2.2.1-cp311-cp311-win_amd64.whl (12.9 MB)\n",
      "Using cached tensorboard-2.18.0-py3-none-any.whl (5.5 MB)\n",
      "Using cached torch-2.5.1-cp311-cp311-win_amd64.whl (203.1 MB)\n",
      "Using cached sympy-1.13.1-py3-none-any.whl (6.2 MB)\n",
      "Downloading matplotlib-3.10.0-cp311-cp311-win_amd64.whl (8.0 MB)\n",
      "   ---------------------------------------- 0.0/8.0 MB ? eta -:--:--\n",
      "   -- ------------------------------------- 0.5/8.0 MB 31.4 MB/s eta 0:00:01\n",
      "   ---- ----------------------------------- 1.0/8.0 MB 10.5 MB/s eta 0:00:01\n",
      "   --------- ------------------------------ 2.0/8.0 MB 13.9 MB/s eta 0:00:01\n",
      "   ------------------ --------------------- 3.7/8.0 MB 21.3 MB/s eta 0:00:01\n",
      "   -------------------- ------------------- 4.1/8.0 MB 17.3 MB/s eta 0:00:01\n",
      "   --------------------- ------------------ 4.4/8.0 MB 15.7 MB/s eta 0:00:01\n",
      "   ----------------------- ---------------- 4.8/8.0 MB 15.2 MB/s eta 0:00:01\n",
      "   ------------------------- -------------- 5.1/8.0 MB 13.6 MB/s eta 0:00:01\n",
      "   --------------------------- ------------ 5.5/8.0 MB 13.0 MB/s eta 0:00:01\n",
      "   ----------------------------- ---------- 5.8/8.0 MB 12.9 MB/s eta 0:00:01\n",
      "   ------------------------------ --------- 6.2/8.0 MB 12.0 MB/s eta 0:00:01\n",
      "   -------------------------------- ------- 6.6/8.0 MB 11.6 MB/s eta 0:00:01\n",
      "   ---------------------------------- ----- 6.9/8.0 MB 11.4 MB/s eta 0:00:01\n",
      "   ------------------------------------ --- 7.3/8.0 MB 11.1 MB/s eta 0:00:01\n",
      "   -------------------------------------- - 7.7/8.0 MB 11.1 MB/s eta 0:00:01\n",
      "   ---------------------------------------  8.0/8.0 MB 10.9 MB/s eta 0:00:01\n",
      "   ---------------------------------------- 8.0/8.0 MB 10.7 MB/s eta 0:00:00\n",
      "Downloading pillow-11.1.0-cp311-cp311-win_amd64.whl (2.6 MB)\n",
      "   ---------------------------------------- 0.0/2.6 MB ? eta -:--:--\n",
      "   ---- ----------------------------------- 0.3/2.6 MB 9.3 MB/s eta 0:00:01\n",
      "   ---------- ----------------------------- 0.7/2.6 MB 8.7 MB/s eta 0:00:01\n",
      "   ---------------- ----------------------- 1.1/2.6 MB 8.4 MB/s eta 0:00:01\n",
      "   ---------------------- ----------------- 1.5/2.6 MB 8.5 MB/s eta 0:00:01\n",
      "   ---------------------------- ----------- 1.8/2.6 MB 7.8 MB/s eta 0:00:01\n",
      "   --------------------------------- ------ 2.2/2.6 MB 7.8 MB/s eta 0:00:01\n",
      "   ---------------------------------------  2.6/2.6 MB 7.9 MB/s eta 0:00:01\n",
      "   ---------------------------------------- 2.6/2.6 MB 7.9 MB/s eta 0:00:00\n",
      "Using cached opencv_python-4.10.0.84-cp37-abi3-win_amd64.whl (38.8 MB)\n",
      "Using cached pandas-2.2.3-cp311-cp311-win_amd64.whl (11.6 MB)\n",
      "Downloading pygame-2.6.1-cp311-cp311-win_amd64.whl (10.6 MB)\n",
      "   ---------------------------------------- 0.0/10.6 MB ? eta -:--:--\n",
      "   - -------------------------------------- 0.3/10.6 MB 7.0 MB/s eta 0:00:02\n",
      "   -- ------------------------------------- 0.7/10.6 MB 7.6 MB/s eta 0:00:02\n",
      "   ---- ----------------------------------- 1.1/10.6 MB 7.9 MB/s eta 0:00:02\n",
      "   ----- ---------------------------------- 1.5/10.6 MB 8.0 MB/s eta 0:00:02\n",
      "   ------- -------------------------------- 1.9/10.6 MB 8.1 MB/s eta 0:00:02\n",
      "   -------- ------------------------------- 2.3/10.6 MB 8.2 MB/s eta 0:00:02\n",
      "   ---------- ----------------------------- 2.8/10.6 MB 8.4 MB/s eta 0:00:01\n",
      "   ----------- ---------------------------- 3.2/10.6 MB 8.4 MB/s eta 0:00:01\n",
      "   ------------- -------------------------- 3.6/10.6 MB 8.5 MB/s eta 0:00:01\n",
      "   --------------- ------------------------ 4.0/10.6 MB 8.5 MB/s eta 0:00:01\n",
      "   ---------------- ----------------------- 4.4/10.6 MB 8.6 MB/s eta 0:00:01\n",
      "   ------------------ --------------------- 4.9/10.6 MB 8.6 MB/s eta 0:00:01\n",
      "   ------------------- -------------------- 5.3/10.6 MB 8.6 MB/s eta 0:00:01\n",
      "   --------------------- ------------------ 5.7/10.6 MB 8.7 MB/s eta 0:00:01\n",
      "   ----------------------- ---------------- 6.1/10.6 MB 8.7 MB/s eta 0:00:01\n",
      "   ------------------------ --------------- 6.6/10.6 MB 8.7 MB/s eta 0:00:01\n",
      "   -------------------------- ------------- 7.0/10.6 MB 8.8 MB/s eta 0:00:01\n",
      "   ---------------------------- ----------- 7.4/10.6 MB 8.8 MB/s eta 0:00:01\n",
      "   ----------------------------- ---------- 7.9/10.6 MB 8.9 MB/s eta 0:00:01\n",
      "   ------------------------------- -------- 8.3/10.6 MB 8.9 MB/s eta 0:00:01\n",
      "   --------------------------------- ------ 8.8/10.6 MB 8.9 MB/s eta 0:00:01\n",
      "   ---------------------------------- ----- 9.2/10.6 MB 9.0 MB/s eta 0:00:01\n",
      "   ------------------------------------ --- 9.7/10.6 MB 9.0 MB/s eta 0:00:01\n",
      "   -------------------------------------- - 10.1/10.6 MB 9.0 MB/s eta 0:00:01\n",
      "   ---------------------------------------  10.6/10.6 MB 9.1 MB/s eta 0:00:01\n",
      "   ---------------------------------------- 10.6/10.6 MB 9.0 MB/s eta 0:00:00\n",
      "Using cached rich-13.9.4-py3-none-any.whl (242 kB)\n",
      "Using cached tqdm-4.67.1-py3-none-any.whl (78 kB)\n",
      "Using cached absl_py-2.1.0-py3-none-any.whl (133 kB)\n",
      "Using cached contourpy-1.3.1-cp311-cp311-win_amd64.whl (219 kB)\n",
      "Using cached cycler-0.12.1-py3-none-any.whl (8.3 kB)\n",
      "Downloading Farama_Notifications-0.0.4-py3-none-any.whl (2.5 kB)\n",
      "Using cached fonttools-4.55.3-cp311-cp311-win_amd64.whl (2.2 MB)\n",
      "Using cached grpcio-1.69.0-cp311-cp311-win_amd64.whl (4.4 MB)\n",
      "Downloading kiwisolver-1.4.8-cp311-cp311-win_amd64.whl (71 kB)\n",
      "   ---------------------------------------- 0.0/72.0 kB ? eta -:--:--\n",
      "   ---------------------------------------- 72.0/72.0 kB 3.9 MB/s eta 0:00:00\n",
      "Using cached Markdown-3.7-py3-none-any.whl (106 kB)\n",
      "Using cached markdown_it_py-3.0.0-py3-none-any.whl (87 kB)\n",
      "Downloading protobuf-5.29.3-cp310-abi3-win_amd64.whl (434 kB)\n",
      "   ---------------------------------------- 0.0/434.5 kB ? eta -:--:--\n",
      "   --------------------------------------- 434.5/434.5 kB 13.7 MB/s eta 0:00:00\n",
      "Downloading pyparsing-3.2.1-py3-none-any.whl (107 kB)\n",
      "   ---------------------------------------- 0.0/107.7 kB ? eta -:--:--\n",
      "   ---------------------------------------- 107.7/107.7 kB 6.5 MB/s eta 0:00:00\n",
      "Using cached pytz-2024.2-py2.py3-none-any.whl (508 kB)\n",
      "Using cached tensorboard_data_server-0.7.2-py3-none-any.whl (2.4 kB)\n",
      "Using cached tzdata-2024.2-py2.py3-none-any.whl (346 kB)\n",
      "Using cached werkzeug-3.1.3-py3-none-any.whl (224 kB)\n",
      "Using cached filelock-3.16.1-py3-none-any.whl (16 kB)\n",
      "Downloading fsspec-2024.12.0-py3-none-any.whl (183 kB)\n",
      "   ---------------------------------------- 0.0/183.9 kB ? eta -:--:--\n",
      "   --------------------------------------- 183.9/183.9 kB 10.9 MB/s eta 0:00:00\n",
      "Downloading jinja2-3.1.5-py3-none-any.whl (134 kB)\n",
      "   ---------------------------------------- 0.0/134.6 kB ? eta -:--:--\n",
      "   ---------------------------------------- 134.6/134.6 kB 8.3 MB/s eta 0:00:00\n",
      "Using cached networkx-3.4.2-py3-none-any.whl (1.7 MB)\n",
      "Using cached MarkupSafe-3.0.2-cp311-cp311-win_amd64.whl (15 kB)\n",
      "Using cached mdurl-0.1.2-py3-none-any.whl (10.0 kB)\n",
      "Using cached mpmath-1.3.0-py3-none-any.whl (536 kB)\n",
      "Installing collected packages: pytz, mpmath, farama-notifications, tzdata, tqdm, tensorboard-data-server, sympy, pyparsing, pygame, protobuf, pillow, numpy, networkx, mdurl, MarkupSafe, markdown, kiwisolver, grpcio, fsspec, fonttools, filelock, cycler, cloudpickle, absl-py, werkzeug, pandas, opencv-python, markdown-it-py, jinja2, gymnasium, contourpy, ale-py, torch, tensorboard, rich, matplotlib, stable-baselines3\n",
      "Successfully installed MarkupSafe-3.0.2 absl-py-2.1.0 ale-py-0.10.1 cloudpickle-3.1.1 contourpy-1.3.1 cycler-0.12.1 farama-notifications-0.0.4 filelock-3.16.1 fonttools-4.55.3 fsspec-2024.12.0 grpcio-1.69.0 gymnasium-1.0.0 jinja2-3.1.5 kiwisolver-1.4.8 markdown-3.7 markdown-it-py-3.0.0 matplotlib-3.10.0 mdurl-0.1.2 mpmath-1.3.0 networkx-3.4.2 numpy-2.2.1 opencv-python-4.10.0.84 pandas-2.2.3 pillow-11.1.0 protobuf-5.29.3 pygame-2.6.1 pyparsing-3.2.1 pytz-2024.2 rich-13.9.4 stable-baselines3-2.5.0a1 sympy-1.13.1 tensorboard-2.18.0 tensorboard-data-server-0.7.2 torch-2.5.1 tqdm-4.67.1 tzdata-2024.2 werkzeug-3.1.3\n"
     ]
    },
    {
     "name": "stderr",
     "output_type": "stream",
     "text": [
      "\n",
      "[notice] A new release of pip is available: 24.0 -> 24.3.1\n",
      "[notice] To update, run: python.exe -m pip install --upgrade pip\n"
     ]
    }
   ],
   "source": [
    "!apt install swig\n",
    "!pip install \"stable-baselines3[extra]>=2.0.0a4\""
   ]
  },
  {
   "cell_type": "markdown",
   "metadata": {
    "colab_type": "text",
    "id": "OQunADhw1EXX"
   },
   "source": [
    "## Vectorized Environments and Imports\n",
    "\n",
    "[Vectorized Environments](https://stable-baselines3.readthedocs.io/en/master/guide/vec_envs.html) are a method for stacking multiple independent environments into a single environment. Instead of training an RL agent on 1 environment per step, it allows us to train it on n environments per step. This provides two benefits:\n",
    "* Agent experience can be collected more quickly\n",
    "* The experience will contain a more diverse range of states, it usually improves exploration\n",
    "\n",
    "Stable-Baselines provides two types of Vectorized Environment:\n",
    "- SubprocVecEnv which run each environment in a separate process\n",
    "- DummyVecEnv which run all environment on the same process\n",
    "\n",
    "In practice, DummyVecEnv is usually faster than SubprocVecEnv because of communication delays that subprocesses have."
   ]
  },
  {
   "cell_type": "code",
   "execution_count": 11,
   "metadata": {
    "colab": {},
    "colab_type": "code",
    "id": "AvO5BGrVv2Rk"
   },
   "outputs": [],
   "source": [
    "import time\n",
    "import numpy as np\n",
    "import matplotlib.pyplot as plt\n",
    "import os\n",
    "\n",
    "%matplotlib inline\n",
    "\n",
    "import gymnasium as gym\n",
    "\n",
    "from stable_baselines3.common.vec_env import DummyVecEnv, SubprocVecEnv\n",
    "from stable_baselines3.common.utils import set_random_seed\n",
    "from stable_baselines3 import PPO, A2C"
   ]
  },
  {
   "cell_type": "markdown",
   "metadata": {
    "colab_type": "text",
    "id": "JcdG_UZS1-yO"
   },
   "source": [
    "Import evaluate function"
   ]
  },
  {
   "cell_type": "code",
   "execution_count": 3,
   "metadata": {
    "colab": {},
    "colab_type": "code",
    "id": "NHslfVkuwALj"
   },
   "outputs": [],
   "source": [
    "from stable_baselines3.common.evaluation import evaluate_policy"
   ]
  },
  {
   "cell_type": "markdown",
   "metadata": {
    "colab_type": "text",
    "id": "WWsIT2vP2FzB"
   },
   "source": [
    "## Define an environment function\n",
    "\n",
    "The multiprocessing implementation requires a function that can be called inside the process to instantiate a gym env"
   ]
  },
  {
   "cell_type": "code",
   "execution_count": 9,
   "metadata": {
    "colab": {},
    "colab_type": "code",
    "id": "6S95WiPGwF6z"
   },
   "outputs": [],
   "source": [
    "def make_env(env_id, rank, seed=0):\n",
    "    \"\"\"\n",
    "    Utility function for multiprocessed env.\n",
    "\n",
    "    :param env_id: (str) the environment ID\n",
    "    :param seed: (int) the inital seed for RNG\n",
    "    :param rank: (int) index of the subprocess\n",
    "    \"\"\"\n",
    "\n",
    "    def _init():\n",
    "        env = gym.make(env_id)\n",
    "        # use a seed for reproducibility\n",
    "        # Important: use a different seed for each environment\n",
    "        # otherwise they would generate the same experiences\n",
    "        env.reset(seed=seed + rank)\n",
    "        return env\n",
    "\n",
    "    set_random_seed(seed)\n",
    "    return _init"
   ]
  },
  {
   "cell_type": "markdown",
   "metadata": {
    "colab_type": "text",
    "id": "9-QID4O2bd7c"
   },
   "source": [
    "Stable-Baselines also provides directly an helper to create vectorized environment:"
   ]
  },
  {
   "cell_type": "code",
   "execution_count": 5,
   "metadata": {
    "colab": {},
    "colab_type": "code",
    "id": "Gk7Ukbqlbl-i"
   },
   "outputs": [],
   "source": [
    "from stable_baselines3.common.env_util import make_vec_env"
   ]
  },
  {
   "cell_type": "markdown",
   "metadata": {
    "colab_type": "text",
    "id": "DJUP0PQi2WEE"
   },
   "source": [
    "## Define a few constants (feel free to try out other environments and algorithms)\n",
    "We will be using the Cartpole environment: [https://gym.openai.com/envs/CartPole-v1/](https://gym.openai.com/envs/CartPole-v1/)\n",
    "\n",
    "![Cartpole](https://cdn-images-1.medium.com/max/1143/1*h4WTQNVIsvMXJTCpXm_TAw.gif)\n",
    "\n"
   ]
  },
  {
   "cell_type": "code",
   "execution_count": 6,
   "metadata": {
    "colab": {},
    "colab_type": "code",
    "id": "bmdNV8UVwTht"
   },
   "outputs": [],
   "source": [
    "env_id = \"CartPole-v1\"\n",
    "# The different number of processes that will be used\n",
    "PROCESSES_TO_TEST = [1, 2, 4, 8, 16]\n",
    "NUM_EXPERIMENTS = 3  # RL algorithms can often be unstable, so we run several experiments (see https://arxiv.org/abs/1709.06560)\n",
    "TRAIN_STEPS = 5000\n",
    "# Number of episodes for evaluation\n",
    "EVAL_EPS = 20\n",
    "ALGO = A2C\n",
    "\n",
    "# We will create one environment to evaluate the agent on\n",
    "eval_env = gym.make(env_id)"
   ]
  },
  {
   "cell_type": "markdown",
   "metadata": {
    "colab_type": "text",
    "id": "y08bJGxj2ezh"
   },
   "source": [
    "## Iterate through the different numbers of processes\n",
    "\n",
    "For each processes, several experiments are run per process\n",
    "This may take a couple of minutes."
   ]
  },
  {
   "cell_type": "code",
   "execution_count": 12,
   "metadata": {
    "colab": {
     "base_uri": "https://localhost:8080/",
     "height": 106
    },
    "colab_type": "code",
    "id": "kcYpsA8ExB9T",
    "outputId": "11e28f5c-c3d3-4669-ab4b-acff3e710ac1"
   },
   "outputs": [
    {
     "name": "stdout",
     "output_type": "stream",
     "text": [
      "Running for n_procs = 1\n",
      "Running for n_procs = 2\n",
      "Running for n_procs = 4\n",
      "Running for n_procs = 8\n",
      "Running for n_procs = 16\n"
     ]
    }
   ],
   "source": [
    "reward_averages = []\n",
    "reward_std = []\n",
    "training_times = []\n",
    "total_procs = 0\n",
    "for n_procs in PROCESSES_TO_TEST:\n",
    "    total_procs += n_procs\n",
    "    print(f\"Running for n_procs = {n_procs}\")\n",
    "    if n_procs == 1:\n",
    "        # if there is only one process, there is no need to use multiprocessing\n",
    "        train_env = DummyVecEnv([lambda: gym.make(env_id)])\n",
    "    else:\n",
    "        # Here we use the \"fork\" method for launching the processes, more information is available in the doc\n",
    "        # This is equivalent to make_vec_env(env_id, n_envs=n_procs, vec_env_cls=SubprocVecEnv, vec_env_kwargs=dict(start_method='fork'))\n",
    "        start_method = \"fork\" if os.name != 'nt' else \"spawn\"\n",
    "        train_env = SubprocVecEnv(\n",
    "            [make_env(env_id, i + total_procs) for i in range(n_procs)],\n",
    "            start_method=start_method,\n",
    "        )\n",
    "\n",
    "    rewards = []\n",
    "    times = []\n",
    "\n",
    "    for experiment in range(NUM_EXPERIMENTS):\n",
    "        # it is recommended to run several experiments due to variability in results\n",
    "        train_env.reset()\n",
    "        model = ALGO(\"MlpPolicy\", train_env, verbose=0)\n",
    "        start = time.time()\n",
    "        model.learn(total_timesteps=TRAIN_STEPS)\n",
    "        times.append(time.time() - start)\n",
    "        mean_reward, _ = evaluate_policy(model, eval_env, n_eval_episodes=EVAL_EPS)\n",
    "        rewards.append(mean_reward)\n",
    "    # Important: when using subprocesses, don't forget to close them\n",
    "    # otherwise, you may have memory issues when running a lot of experiments\n",
    "    train_env.close()\n",
    "    reward_averages.append(np.mean(rewards))\n",
    "    reward_std.append(np.std(rewards))\n",
    "    training_times.append(np.mean(times))"
   ]
  },
  {
   "cell_type": "markdown",
   "metadata": {
    "colab_type": "text",
    "id": "2z5paN1q3AaC"
   },
   "source": [
    "## Plot the results"
   ]
  },
  {
   "cell_type": "code",
   "execution_count": 13,
   "metadata": {
    "id": "CGnZ8SccKG4D"
   },
   "outputs": [],
   "source": [
    "def plot_training_results(training_steps_per_second, reward_averages, reward_std):\n",
    "    \"\"\"\n",
    "    Utility function for plotting the results of training\n",
    "\n",
    "    :param training_steps_per_second: List[double]\n",
    "    :param reward_averages: List[double]\n",
    "    :param reward_std: List[double]\n",
    "    \"\"\"\n",
    "    plt.figure(figsize=(9, 4))\n",
    "    plt.subplots_adjust(wspace=0.5)\n",
    "    plt.subplot(1, 2, 1)\n",
    "    plt.errorbar(\n",
    "        PROCESSES_TO_TEST,\n",
    "        reward_averages,\n",
    "        yerr=reward_std,\n",
    "        capsize=2,\n",
    "        c=\"k\",\n",
    "        marker=\"o\",\n",
    "    )\n",
    "    plt.xlabel(\"Processes\")\n",
    "    plt.ylabel(\"Average return\")\n",
    "    plt.subplot(1, 2, 2)\n",
    "    plt.bar(range(len(PROCESSES_TO_TEST)), training_steps_per_second)\n",
    "    plt.xticks(range(len(PROCESSES_TO_TEST)), PROCESSES_TO_TEST)\n",
    "    plt.xlabel(\"Processes\")\n",
    "    plt.ylabel(\"Training steps per second\")"
   ]
  },
  {
   "cell_type": "code",
   "execution_count": 14,
   "metadata": {
    "colab": {
     "base_uri": "https://localhost:8080/",
     "height": 279
    },
    "colab_type": "code",
    "id": "fPWfc96JxT-k",
    "outputId": "df2b74d5-61ea-487b-9364-8ec33b4e0624"
   },
   "outputs": [
    {
     "data": {
      "image/png": "[encoded data removed]",
      "text/plain": [
       "<Figure size 900x400 with 2 Axes>"
      ]
     },
     "metadata": {},
     "output_type": "display_data"
    }
   ],
   "source": [
    "training_steps_per_second = [TRAIN_STEPS / t for t in training_times]\n",
    "\n",
    "plot_training_results(training_steps_per_second, reward_averages, reward_std)"
   ]
  },
  {
   "cell_type": "markdown",
   "metadata": {
    "colab_type": "text",
    "id": "R5xE8EX63PO9"
   },
   "source": [
    "## Sample efficiency vs wall clock time trade-off\n",
    "There is clearly a trade-off between sample efficiency, diverse experience and wall clock time. Let's try getting the best performance in a fixed amount of time, say 10 seconds per experiment"
   ]
  },
  {
   "cell_type": "code",
   "execution_count": 15,
   "metadata": {
    "colab": {
     "base_uri": "https://localhost:8080/",
     "height": 106
    },
    "outputId": "2cdda2c8-e2f0-401b-a6ea-99c80d91fe8e"
   },
   "outputs": [
    {
     "name": "stdout",
     "output_type": "stream",
     "text": [
      "Running for n_procs = 1 for steps = 15441\n"
     ]
    },
    {
     "name": "stderr",
     "output_type": "stream",
     "text": [
      "d:\\Code\\Data Science\\stable-baseline3\\.venv\\Lib\\site-packages\\stable_baselines3\\common\\evaluation.py:67: UserWarning: Evaluation environment is not wrapped with a ``Monitor`` wrapper. This may result in reporting modified episode lengths and rewards, if other wrappers happen to modify these. Consider wrapping environment first with ``Monitor`` wrapper.\n",
      "  warnings.warn(\n"
     ]
    },
    {
     "name": "stdout",
     "output_type": "stream",
     "text": [
      "Running for n_procs = 2 for steps = 24930\n",
      "Running for n_procs = 4 for steps = 48815\n",
      "Running for n_procs = 8 for steps = 84592\n",
      "Running for n_procs = 16 for steps = 130922\n"
     ]
    }
   ],
   "source": [
    "SECONDS_PER_EXPERIMENT = 10\n",
    "steps_per_experiment = [int(SECONDS_PER_EXPERIMENT * fps) for fps in training_steps_per_second]\n",
    "reward_averages = []\n",
    "reward_std = []\n",
    "training_times = []\n",
    "\n",
    "for n_procs, train_steps in zip(PROCESSES_TO_TEST, steps_per_experiment):\n",
    "    total_procs += n_procs\n",
    "    print(f\"Running for n_procs = {n_procs} for steps = {train_steps}\")\n",
    "    if n_procs == 1:\n",
    "        # if there is only one process, there is no need to use multiprocessing\n",
    "        train_env = DummyVecEnv([lambda: gym.make(env_id)])\n",
    "    else:\n",
    "        train_env = SubprocVecEnv([make_env(env_id, i+total_procs) for i in range(n_procs)], start_method=\"spawn\")\n",
    "        # Alternatively, you can use a DummyVecEnv if the communication delays is the bottleneck\n",
    "        # train_env = DummyVecEnv([make_env(env_id, i+total_procs) for i in range(n_procs)])\n",
    "\n",
    "    rewards = []\n",
    "    times = []\n",
    "\n",
    "    for experiment in range(NUM_EXPERIMENTS):\n",
    "        # it is recommended to run several experiments due to variability in results\n",
    "        train_env.reset()\n",
    "        model = ALGO(\"MlpPolicy\", train_env, verbose=0)\n",
    "        start = time.time()\n",
    "        model.learn(total_timesteps=train_steps)\n",
    "        times.append(time.time() - start)\n",
    "        mean_reward, _ = evaluate_policy(model, eval_env, n_eval_episodes=EVAL_EPS)\n",
    "        rewards.append(mean_reward)\n",
    "\n",
    "    train_env.close()\n",
    "    reward_averages.append(np.mean(rewards))\n",
    "    reward_std.append(np.std(rewards))\n",
    "    training_times.append(np.mean(times))\n"
   ]
  },
  {
   "cell_type": "markdown",
   "metadata": {
    "colab_type": "text",
    "id": "G7a7ZiVw5A11"
   },
   "source": [
    "## Plot the results"
   ]
  },
  {
   "cell_type": "code",
   "execution_count": 16,
   "metadata": {
    "colab": {
     "base_uri": "https://localhost:8080/",
     "height": 297
    },
    "colab_type": "code",
    "id": "EQXJ1hI46DVB",
    "outputId": "d5b47716-3551-47b1-f690-16d726e89a05"
   },
   "outputs": [
    {
     "data": {
      "image/png": "[encoded data removed]",
      "text/plain": [
       "<Figure size 900x400 with 2 Axes>"
      ]
     },
     "metadata": {},
     "output_type": "display_data"
    }
   ],
   "source": [
    "training_steps_per_second = [s / t for s,t in zip(steps_per_experiment, training_times)]\n",
    "\n",
    "plot_training_results(training_steps_per_second, reward_averages, reward_std)"
   ]
  },
  {
   "cell_type": "markdown",
   "metadata": {
    "colab_type": "text",
    "id": "0FcOcVf5rY3C"
   },
   "source": [
    "## DummyVecEnv vs SubprocVecEnv"
   ]
  },
  {
   "cell_type": "code",
   "execution_count": 18,
   "metadata": {
    "colab": {
     "base_uri": "https://localhost:8080/",
     "height": 106
    },
    "colab_type": "code",
    "id": "MebaTHQvqhoH",
    "outputId": "637e9934-e6b1-4ce3-a401-c20f23437e67"
   },
   "outputs": [
    {
     "name": "stdout",
     "output_type": "stream",
     "text": [
      "Running for n_procs = 1\n"
     ]
    },
    {
     "name": "stderr",
     "output_type": "stream",
     "text": [
      "d:\\Code\\Data Science\\stable-baseline3\\.venv\\Lib\\site-packages\\stable_baselines3\\common\\evaluation.py:67: UserWarning: Evaluation environment is not wrapped with a ``Monitor`` wrapper. This may result in reporting modified episode lengths and rewards, if other wrappers happen to modify these. Consider wrapping environment first with ``Monitor`` wrapper.\n",
      "  warnings.warn(\n"
     ]
    },
    {
     "name": "stdout",
     "output_type": "stream",
     "text": [
      "Running for n_procs = 2\n",
      "Running for n_procs = 4\n",
      "Running for n_procs = 8\n",
      "Running for n_procs = 16\n"
     ]
    }
   ],
   "source": [
    "reward_averages = []\n",
    "reward_std = []\n",
    "training_times = []\n",
    "total_procs = 0\n",
    "for n_procs in PROCESSES_TO_TEST:\n",
    "    total_procs += n_procs\n",
    "    print(f'Running for n_procs = {n_procs}')\n",
    "    # Here we are using only one process even for n_env > 1\n",
    "    # this is equivalent to DummyVecEnv([make_env(env_id, i + total_procs) for i in range(n_procs)])\n",
    "    train_env = make_vec_env(env_id, n_envs=n_procs)\n",
    "\n",
    "    rewards = []\n",
    "    times = []\n",
    "\n",
    "    for experiment in range(NUM_EXPERIMENTS):\n",
    "        # it is recommended to run several experiments due to variability in results\n",
    "        train_env.reset()\n",
    "        model = ALGO(\"MlpPolicy\", train_env, verbose=0)\n",
    "        start = time.time()\n",
    "        model.learn(total_timesteps=TRAIN_STEPS)\n",
    "        times.append(time.time() - start)\n",
    "        mean_reward, _ = evaluate_policy(model, eval_env, n_eval_episodes=EVAL_EPS)\n",
    "        rewards.append(mean_reward)\n",
    "\n",
    "    train_env.close()\n",
    "    reward_averages.append(np.mean(rewards))\n",
    "    reward_std.append(np.std(rewards))\n",
    "    training_times.append(np.mean(times))"
   ]
  },
  {
   "cell_type": "code",
   "execution_count": 19,
   "metadata": {
    "colab": {
     "base_uri": "https://localhost:8080/",
     "height": 297
    },
    "colab_type": "code",
    "id": "kmMr_c1hqmoi",
    "outputId": "cc174025-ed75-4897-f745-c08944493366"
   },
   "outputs": [
    {
     "data": {
      "image/png": "[encoded data removed]",
      "text/plain": [
       "<Figure size 900x400 with 2 Axes>"
      ]
     },
     "metadata": {},
     "output_type": "display_data"
    }
   ],
   "source": [
    "training_steps_per_second = [TRAIN_STEPS / t for t in training_times]\n",
    "\n",
    "plot_training_results(training_steps_per_second, reward_averages, reward_std)"
   ]
  },
  {
   "cell_type": "markdown",
   "metadata": {
    "colab_type": "text",
    "id": "e9PNbT35spZW"
   },
   "source": [
    "### What's happening?\n",
    "\n",
    "It seems that having only one process for n environments is faster in our case.\n",
    "In practice, the bottleneck does not come from the environment computation, but from synchronisation and communication between processes. To learn more about that problem, you can start [here](https://github.com/hill-a/stable-baselines/issues/322#issuecomment-492202915)"
   ]
  },
  {
   "cell_type": "markdown",
   "metadata": {
    "colab_type": "text",
    "id": "GlcJPYN-6ebp"
   },
   "source": [
    "## Conclusions\n",
    "This notebook has highlighted some of the pros and cons of multiprocessing. It is worth mentioning that colab notebooks only provide two CPU cores per process, so we do not see a linear scaling of the FPS of the environments. State of the art Deep RL research has scaled parallel processing to tens of thousands of CPU cores, [OpenAI RAPID](https://openai.com/blog/how-to-train-your-openai-five/) [IMPALA](https://arxiv.org/abs/1802.01561).\n",
    "\n",
    "Do you think this direction of research is transferable to real world robots / intelligent agents?\n",
    "\n",
    "Things to try:\n",
    "* Another algorithm / environment.\n",
    "* Increase the number of experiments.\n",
    "* Train for more iterations.\n"
   ]
  }
 ],
 "metadata": {
  "colab": {
   "collapsed_sections": [],
   "include_colab_link": true,
   "name": "3_multiprocessing.ipynb",
   "provenance": []
  },
  "kernelspec": {
   "display_name": ".venv",
   "language": "python",
   "name": "python3"
  },
  "language_info": {
   "codemirror_mode": {
    "name": "ipython",
    "version": 3
   },
   "file_extension": ".py",
   "mimetype": "text/x-python",
   "name": "python",
   "nbconvert_exporter": "python",
   "pygments_lexer": "ipython3",
   "version": "3.11.9"
  }
 },
 "nbformat": 4,
 "nbformat_minor": 4
}
