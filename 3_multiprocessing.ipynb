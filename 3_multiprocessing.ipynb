{
 "cells": [
  {
   "cell_type": "markdown",
   "metadata": {
    "colab_type": "text",
    "id": "view-in-github"
   },
   "source": [
    "<a href=\"https://colab.research.google.com/github/araffin/rl-tutorial-jnrr19/blob/sb3/3_multiprocessing.ipynb\" target=\"_parent\"><img src=\"https://colab.research.google.com/assets/colab-badge.svg\" alt=\"Open In Colab\"/></a>"
   ]
  },
  {
   "cell_type": "markdown",
   "metadata": {
    "colab_type": "text",
    "id": "KnPeMWYi0vAx"
   },
   "source": [
    "# Stable Baselines3 Tutorial - Multiprocessing of environments\n",
    "\n",
    "Github repo: https://github.com/araffin/rl-tutorial-jnrr19/tree/sb3/\n",
    "\n",
    "Stable-Baselines3: https://github.com/DLR-RM/stable-baselines3\n",
    "\n",
    "Documentation: https://stable-baselines3.readthedocs.io/en/master/\n",
    "\n",
    "SB3-Contrib: https://github.com/Stable-Baselines-Team/stable-baselines3-contrib\n",
    "\n",
    "RL Baselines3 zoo: https://github.com/DLR-RM/rl-baselines3-zoo\n",
    "\n",
    "\n",
    "## Introduction\n",
    "\n",
    "In this notebook, you will learn how to use *Vectorized Environments* (aka multiprocessing) to make training faster. You will also see that this speed up comes at a cost of sample efficiency.\n",
    "\n",
    "## Install Dependencies and Stable Baselines3 Using Pip"
   ]
  },
  {
   "cell_type": "code",
   "execution_count": 1,
   "metadata": {},
   "outputs": [],
   "source": [
    "# for autoformatting\n",
    "# %load_ext jupyter_black"
   ]
  },
  {
   "cell_type": "code",
   "execution_count": 2,
   "metadata": {
    "colab": {},
    "colab_type": "code",
    "id": "ClRYNMkVvpUX"
   },
   "outputs": [
    {
     "name": "stdout",
     "output_type": "stream",
     "text": [
      "\u001b[1;31mE: \u001b[0mCould not open lock file /var/lib/dpkg/lock-frontend - open (13: Permission denied)\u001b[0m\n",
      "\u001b[1;31mE: \u001b[0mUnable to acquire the dpkg frontend lock (/var/lib/dpkg/lock-frontend), are you root?\u001b[0m\n",
      "Requirement already satisfied: stable-baselines3[extra]>=2.0.0a4 in ./.venv/lib/python3.10/site-packages (2.4.1)\n",
      "Requirement already satisfied: torch>=1.13 in ./.venv/lib/python3.10/site-packages (from stable-baselines3[extra]>=2.0.0a4) (2.5.1)\n",
      "Requirement already satisfied: cloudpickle in ./.venv/lib/python3.10/site-packages (from stable-baselines3[extra]>=2.0.0a4) (3.1.1)\n",
      "Requirement already satisfied: matplotlib in ./.venv/lib/python3.10/site-packages (from stable-baselines3[extra]>=2.0.0a4) (3.10.0)\n",
      "Requirement already satisfied: pandas in ./.venv/lib/python3.10/site-packages (from stable-baselines3[extra]>=2.0.0a4) (2.2.3)\n",
      "Requirement already satisfied: gymnasium<1.1.0,>=0.29.1 in ./.venv/lib/python3.10/site-packages (from stable-baselines3[extra]>=2.0.0a4) (1.0.0)\n",
      "Requirement already satisfied: numpy<2.0,>=1.20 in ./.venv/lib/python3.10/site-packages (from stable-baselines3[extra]>=2.0.0a4) (1.26.4)\n",
      "Requirement already satisfied: opencv-python in ./.venv/lib/python3.10/site-packages (from stable-baselines3[extra]>=2.0.0a4) (4.10.0.84)\n",
      "Requirement already satisfied: tqdm in ./.venv/lib/python3.10/site-packages (from stable-baselines3[extra]>=2.0.0a4) (4.67.1)\n",
      "Requirement already satisfied: psutil in ./.venv/lib/python3.10/site-packages (from stable-baselines3[extra]>=2.0.0a4) (6.1.1)\n",
      "Requirement already satisfied: ale-py>=0.9.0 in ./.venv/lib/python3.10/site-packages (from stable-baselines3[extra]>=2.0.0a4) (0.10.1)\n",
      "Requirement already satisfied: pillow in ./.venv/lib/python3.10/site-packages (from stable-baselines3[extra]>=2.0.0a4) (10.4.0)\n",
      "Requirement already satisfied: rich in ./.venv/lib/python3.10/site-packages (from stable-baselines3[extra]>=2.0.0a4) (13.9.4)\n",
      "Requirement already satisfied: tensorboard>=2.9.1 in ./.venv/lib/python3.10/site-packages (from stable-baselines3[extra]>=2.0.0a4) (2.18.0)\n",
      "Requirement already satisfied: pygame in ./.venv/lib/python3.10/site-packages (from stable-baselines3[extra]>=2.0.0a4) (2.6.1)\n",
      "Requirement already satisfied: typing-extensions in ./.venv/lib/python3.10/site-packages (from ale-py>=0.9.0->stable-baselines3[extra]>=2.0.0a4) (4.12.2)\n",
      "Requirement already satisfied: farama-notifications>=0.0.1 in ./.venv/lib/python3.10/site-packages (from gymnasium<1.1.0,>=0.29.1->stable-baselines3[extra]>=2.0.0a4) (0.0.4)\n",
      "Requirement already satisfied: six>1.9 in ./.venv/lib/python3.10/site-packages (from tensorboard>=2.9.1->stable-baselines3[extra]>=2.0.0a4) (1.17.0)\n",
      "Requirement already satisfied: absl-py>=0.4 in ./.venv/lib/python3.10/site-packages (from tensorboard>=2.9.1->stable-baselines3[extra]>=2.0.0a4) (2.1.0)\n",
      "Requirement already satisfied: markdown>=2.6.8 in ./.venv/lib/python3.10/site-packages (from tensorboard>=2.9.1->stable-baselines3[extra]>=2.0.0a4) (3.7)\n",
      "Requirement already satisfied: grpcio>=1.48.2 in ./.venv/lib/python3.10/site-packages (from tensorboard>=2.9.1->stable-baselines3[extra]>=2.0.0a4) (1.69.0)\n",
      "Requirement already satisfied: packaging in ./.venv/lib/python3.10/site-packages (from tensorboard>=2.9.1->stable-baselines3[extra]>=2.0.0a4) (24.2)\n",
      "Requirement already satisfied: setuptools>=41.0.0 in ./.venv/lib/python3.10/site-packages (from tensorboard>=2.9.1->stable-baselines3[extra]>=2.0.0a4) (59.6.0)\n",
      "Requirement already satisfied: protobuf!=4.24.0,>=3.19.6 in ./.venv/lib/python3.10/site-packages (from tensorboard>=2.9.1->stable-baselines3[extra]>=2.0.0a4) (5.29.3)\n",
      "Requirement already satisfied: tensorboard-data-server<0.8.0,>=0.7.0 in ./.venv/lib/python3.10/site-packages (from tensorboard>=2.9.1->stable-baselines3[extra]>=2.0.0a4) (0.7.2)\n",
      "Requirement already satisfied: werkzeug>=1.0.1 in ./.venv/lib/python3.10/site-packages (from tensorboard>=2.9.1->stable-baselines3[extra]>=2.0.0a4) (3.1.3)\n",
      "Requirement already satisfied: nvidia-cuda-nvrtc-cu12==12.4.127 in ./.venv/lib/python3.10/site-packages (from torch>=1.13->stable-baselines3[extra]>=2.0.0a4) (12.4.127)\n",
      "Requirement already satisfied: filelock in ./.venv/lib/python3.10/site-packages (from torch>=1.13->stable-baselines3[extra]>=2.0.0a4) (3.16.1)\n",
      "Requirement already satisfied: nvidia-nccl-cu12==2.21.5 in ./.venv/lib/python3.10/site-packages (from torch>=1.13->stable-baselines3[extra]>=2.0.0a4) (2.21.5)\n",
      "Requirement already satisfied: sympy==1.13.1 in ./.venv/lib/python3.10/site-packages (from torch>=1.13->stable-baselines3[extra]>=2.0.0a4) (1.13.1)\n",
      "Requirement already satisfied: nvidia-nvjitlink-cu12==12.4.127 in ./.venv/lib/python3.10/site-packages (from torch>=1.13->stable-baselines3[extra]>=2.0.0a4) (12.4.127)\n",
      "Requirement already satisfied: nvidia-cudnn-cu12==9.1.0.70 in ./.venv/lib/python3.10/site-packages (from torch>=1.13->stable-baselines3[extra]>=2.0.0a4) (9.1.0.70)\n",
      "Requirement already satisfied: triton==3.1.0 in ./.venv/lib/python3.10/site-packages (from torch>=1.13->stable-baselines3[extra]>=2.0.0a4) (3.1.0)\n",
      "Requirement already satisfied: jinja2 in ./.venv/lib/python3.10/site-packages (from torch>=1.13->stable-baselines3[extra]>=2.0.0a4) (3.1.5)\n",
      "Requirement already satisfied: networkx in ./.venv/lib/python3.10/site-packages (from torch>=1.13->stable-baselines3[extra]>=2.0.0a4) (3.4.2)\n",
      "Requirement already satisfied: fsspec in ./.venv/lib/python3.10/site-packages (from torch>=1.13->stable-baselines3[extra]>=2.0.0a4) (2024.12.0)\n",
      "Requirement already satisfied: nvidia-curand-cu12==10.3.5.147 in ./.venv/lib/python3.10/site-packages (from torch>=1.13->stable-baselines3[extra]>=2.0.0a4) (10.3.5.147)\n",
      "Requirement already satisfied: nvidia-cuda-cupti-cu12==12.4.127 in ./.venv/lib/python3.10/site-packages (from torch>=1.13->stable-baselines3[extra]>=2.0.0a4) (12.4.127)\n",
      "Requirement already satisfied: nvidia-cusolver-cu12==11.6.1.9 in ./.venv/lib/python3.10/site-packages (from torch>=1.13->stable-baselines3[extra]>=2.0.0a4) (11.6.1.9)\n",
      "Requirement already satisfied: nvidia-cublas-cu12==12.4.5.8 in ./.venv/lib/python3.10/site-packages (from torch>=1.13->stable-baselines3[extra]>=2.0.0a4) (12.4.5.8)\n",
      "Requirement already satisfied: nvidia-cusparse-cu12==12.3.1.170 in ./.venv/lib/python3.10/site-packages (from torch>=1.13->stable-baselines3[extra]>=2.0.0a4) (12.3.1.170)\n",
      "Requirement already satisfied: nvidia-cufft-cu12==11.2.1.3 in ./.venv/lib/python3.10/site-packages (from torch>=1.13->stable-baselines3[extra]>=2.0.0a4) (11.2.1.3)\n",
      "Requirement already satisfied: nvidia-nvtx-cu12==12.4.127 in ./.venv/lib/python3.10/site-packages (from torch>=1.13->stable-baselines3[extra]>=2.0.0a4) (12.4.127)\n",
      "Requirement already satisfied: nvidia-cuda-runtime-cu12==12.4.127 in ./.venv/lib/python3.10/site-packages (from torch>=1.13->stable-baselines3[extra]>=2.0.0a4) (12.4.127)\n",
      "Requirement already satisfied: mpmath<1.4,>=1.1.0 in ./.venv/lib/python3.10/site-packages (from sympy==1.13.1->torch>=1.13->stable-baselines3[extra]>=2.0.0a4) (1.3.0)\n",
      "Requirement already satisfied: kiwisolver>=1.3.1 in ./.venv/lib/python3.10/site-packages (from matplotlib->stable-baselines3[extra]>=2.0.0a4) (1.4.8)\n",
      "Requirement already satisfied: cycler>=0.10 in ./.venv/lib/python3.10/site-packages (from matplotlib->stable-baselines3[extra]>=2.0.0a4) (0.12.1)\n",
      "Requirement already satisfied: fonttools>=4.22.0 in ./.venv/lib/python3.10/site-packages (from matplotlib->stable-baselines3[extra]>=2.0.0a4) (4.55.3)\n",
      "Requirement already satisfied: python-dateutil>=2.7 in ./.venv/lib/python3.10/site-packages (from matplotlib->stable-baselines3[extra]>=2.0.0a4) (2.9.0.post0)\n",
      "Requirement already satisfied: pyparsing>=2.3.1 in ./.venv/lib/python3.10/site-packages (from matplotlib->stable-baselines3[extra]>=2.0.0a4) (3.2.1)\n",
      "Requirement already satisfied: contourpy>=1.0.1 in ./.venv/lib/python3.10/site-packages (from matplotlib->stable-baselines3[extra]>=2.0.0a4) (1.3.1)\n",
      "Requirement already satisfied: tzdata>=2022.7 in ./.venv/lib/python3.10/site-packages (from pandas->stable-baselines3[extra]>=2.0.0a4) (2024.2)\n",
      "Requirement already satisfied: pytz>=2020.1 in ./.venv/lib/python3.10/site-packages (from pandas->stable-baselines3[extra]>=2.0.0a4) (2024.2)\n",
      "Requirement already satisfied: pygments<3.0.0,>=2.13.0 in ./.venv/lib/python3.10/site-packages (from rich->stable-baselines3[extra]>=2.0.0a4) (2.19.1)\n",
      "Requirement already satisfied: markdown-it-py>=2.2.0 in ./.venv/lib/python3.10/site-packages (from rich->stable-baselines3[extra]>=2.0.0a4) (3.0.0)\n",
      "Requirement already satisfied: mdurl~=0.1 in ./.venv/lib/python3.10/site-packages (from markdown-it-py>=2.2.0->rich->stable-baselines3[extra]>=2.0.0a4) (0.1.2)\n",
      "Requirement already satisfied: MarkupSafe>=2.1.1 in ./.venv/lib/python3.10/site-packages (from werkzeug>=1.0.1->tensorboard>=2.9.1->stable-baselines3[extra]>=2.0.0a4) (3.0.2)\n"
     ]
    }
   ],
   "source": [
    "!apt install swig\n",
    "!pip install \"stable-baselines3[extra]>=2.0.0a4\""
   ]
  },
  {
   "cell_type": "markdown",
   "metadata": {
    "colab_type": "text",
    "id": "OQunADhw1EXX"
   },
   "source": [
    "## Vectorized Environments and Imports\n",
    "\n",
    "[Vectorized Environments](https://stable-baselines3.readthedocs.io/en/master/guide/vec_envs.html) are a method for stacking multiple independent environments into a single environment. Instead of training an RL agent on 1 environment per step, it allows us to train it on n environments per step. This provides two benefits:\n",
    "* Agent experience can be collected more quickly\n",
    "* The experience will contain a more diverse range of states, it usually improves exploration\n",
    "\n",
    "Stable-Baselines provides two types of Vectorized Environment:\n",
    "- SubprocVecEnv which run each environment in a separate process\n",
    "- DummyVecEnv which run all environment on the same process\n",
    "\n",
    "In practice, DummyVecEnv is usually faster than SubprocVecEnv because of communication delays that subprocesses have."
   ]
  },
  {
   "cell_type": "code",
   "execution_count": 3,
   "metadata": {
    "colab": {},
    "colab_type": "code",
    "id": "AvO5BGrVv2Rk"
   },
   "outputs": [],
   "source": [
    "import time\n",
    "import numpy as np\n",
    "import matplotlib.pyplot as plt\n",
    "\n",
    "%matplotlib inline\n",
    "\n",
    "import gymnasium as gym\n",
    "\n",
    "from stable_baselines3.common.vec_env import DummyVecEnv, SubprocVecEnv\n",
    "from stable_baselines3.common.utils import set_random_seed\n",
    "from stable_baselines3 import PPO, A2C"
   ]
  },
  {
   "cell_type": "markdown",
   "metadata": {
    "colab_type": "text",
    "id": "JcdG_UZS1-yO"
   },
   "source": [
    "Import evaluate function"
   ]
  },
  {
   "cell_type": "code",
   "execution_count": 4,
   "metadata": {
    "colab": {},
    "colab_type": "code",
    "id": "NHslfVkuwALj"
   },
   "outputs": [],
   "source": [
    "from stable_baselines3.common.evaluation import evaluate_policy"
   ]
  },
  {
   "cell_type": "markdown",
   "metadata": {
    "colab_type": "text",
    "id": "WWsIT2vP2FzB"
   },
   "source": [
    "## Define an environment function\n",
    "\n",
    "The multiprocessing implementation requires a function that can be called inside the process to instantiate a gym env"
   ]
  },
  {
   "cell_type": "code",
   "execution_count": 5,
   "metadata": {
    "colab": {},
    "colab_type": "code",
    "id": "6S95WiPGwF6z"
   },
   "outputs": [],
   "source": [
    "def make_env(env_id, rank, seed=0):\n",
    "    \"\"\"\n",
    "    Utility function for multiprocessed env.\n",
    "\n",
    "    :param env_id: (str) the environment ID\n",
    "    :param seed: (int) the inital seed for RNG\n",
    "    :param rank: (int) index of the subprocess\n",
    "    \"\"\"\n",
    "\n",
    "    def _init():\n",
    "        env = gym.make(env_id)\n",
    "        # use a seed for reproducibility\n",
    "        # Important: use a different seed for each environment\n",
    "        # otherwise they would generate the same experiences\n",
    "        env.reset(seed=seed + rank)\n",
    "        return env\n",
    "\n",
    "    set_random_seed(seed)\n",
    "    return _init"
   ]
  },
  {
   "cell_type": "markdown",
   "metadata": {
    "colab_type": "text",
    "id": "9-QID4O2bd7c"
   },
   "source": [
    "Stable-Baselines also provides directly an helper to create vectorized environment:"
   ]
  },
  {
   "cell_type": "code",
   "execution_count": 6,
   "metadata": {
    "colab": {},
    "colab_type": "code",
    "id": "Gk7Ukbqlbl-i"
   },
   "outputs": [],
   "source": [
    "from stable_baselines3.common.env_util import make_vec_env"
   ]
  },
  {
   "cell_type": "markdown",
   "metadata": {
    "colab_type": "text",
    "id": "DJUP0PQi2WEE"
   },
   "source": [
    "## Define a few constants (feel free to try out other environments and algorithms)\n",
    "We will be using the Cartpole environment: [https://gym.openai.com/envs/CartPole-v1/](https://gym.openai.com/envs/CartPole-v1/)\n",
    "\n",
    "![Cartpole](https://cdn-images-1.medium.com/max/1143/1*h4WTQNVIsvMXJTCpXm_TAw.gif)\n",
    "\n"
   ]
  },
  {
   "cell_type": "code",
   "execution_count": 7,
   "metadata": {
    "colab": {},
    "colab_type": "code",
    "id": "bmdNV8UVwTht"
   },
   "outputs": [],
   "source": [
    "env_id = \"CartPole-v1\"\n",
    "# The different number of processes that will be used\n",
    "PROCESSES_TO_TEST = [1, 2, 4, 8, 16]\n",
    "NUM_EXPERIMENTS = 3  # RL algorithms can often be unstable, so we run several experiments (see https://arxiv.org/abs/1709.06560)\n",
    "TRAIN_STEPS = 5000\n",
    "# Number of episodes for evaluation\n",
    "EVAL_EPS = 20\n",
    "ALGO = A2C\n",
    "\n",
    "# We will create one environment to evaluate the agent on\n",
    "eval_env = gym.make(env_id)"
   ]
  },
  {
   "cell_type": "markdown",
   "metadata": {
    "colab_type": "text",
    "id": "y08bJGxj2ezh"
   },
   "source": [
    "## Iterate through the different numbers of processes\n",
    "\n",
    "For each processes, several experiments are run per process\n",
    "This may take a couple of minutes."
   ]
  },
  {
   "cell_type": "code",
   "execution_count": 8,
   "metadata": {
    "colab": {
     "base_uri": "https://localhost:8080/",
     "height": 106
    },
    "colab_type": "code",
    "id": "kcYpsA8ExB9T",
    "outputId": "11e28f5c-c3d3-4669-ab4b-acff3e710ac1"
   },
   "outputs": [
    {
     "name": "stdout",
     "output_type": "stream",
     "text": [
      "Running for n_procs = 1\n"
     ]
    },
    {
     "name": "stderr",
     "output_type": "stream",
     "text": [
      "/home/ivon/code/stable-baseline3/.venv/lib/python3.10/site-packages/stable_baselines3/common/evaluation.py:67: UserWarning: Evaluation environment is not wrapped with a ``Monitor`` wrapper. This may result in reporting modified episode lengths and rewards, if other wrappers happen to modify these. Consider wrapping environment first with ``Monitor`` wrapper.\n",
      "  warnings.warn(\n"
     ]
    },
    {
     "name": "stdout",
     "output_type": "stream",
     "text": [
      "Running for n_procs = 2\n",
      "Running for n_procs = 4\n",
      "Running for n_procs = 8\n",
      "Running for n_procs = 16\n"
     ]
    }
   ],
   "source": [
    "reward_averages = []\n",
    "reward_std = []\n",
    "training_times = []\n",
    "total_procs = 0\n",
    "for n_procs in PROCESSES_TO_TEST:\n",
    "    total_procs += n_procs\n",
    "    print(f\"Running for n_procs = {n_procs}\")\n",
    "    if n_procs == 1:\n",
    "        # if there is only one process, there is no need to use multiprocessing\n",
    "        train_env = DummyVecEnv([lambda: gym.make(env_id)])\n",
    "    else:\n",
    "        # Here we use the \"fork\" method for launching the processes, more information is available in the doc\n",
    "        # This is equivalent to make_vec_env(env_id, n_envs=n_procs, vec_env_cls=SubprocVecEnv, vec_env_kwargs=dict(start_method='fork'))\n",
    "        train_env = SubprocVecEnv(\n",
    "            [make_env(env_id, i + total_procs) for i in range(n_procs)],\n",
    "            start_method=\"fork\",\n",
    "        )\n",
    "\n",
    "    rewards = []\n",
    "    times = []\n",
    "\n",
    "    for experiment in range(NUM_EXPERIMENTS):\n",
    "        # it is recommended to run several experiments due to variability in results\n",
    "        train_env.reset()\n",
    "        model = ALGO(\"MlpPolicy\", train_env, verbose=0)\n",
    "        start = time.time()\n",
    "        model.learn(total_timesteps=TRAIN_STEPS)\n",
    "        times.append(time.time() - start)\n",
    "        mean_reward, _ = evaluate_policy(model, eval_env, n_eval_episodes=EVAL_EPS)\n",
    "        rewards.append(mean_reward)\n",
    "    # Important: when using subprocesses, don't forget to close them\n",
    "    # otherwise, you may have memory issues when running a lot of experiments\n",
    "    train_env.close()\n",
    "    reward_averages.append(np.mean(rewards))\n",
    "    reward_std.append(np.std(rewards))\n",
    "    training_times.append(np.mean(times))"
   ]
  },
  {
   "cell_type": "markdown",
   "metadata": {
    "colab_type": "text",
    "id": "2z5paN1q3AaC"
   },
   "source": [
    "## Plot the results"
   ]
  },
  {
   "cell_type": "code",
   "execution_count": 9,
   "metadata": {
    "id": "CGnZ8SccKG4D"
   },
   "outputs": [],
   "source": [
    "def plot_training_results(training_steps_per_second, reward_averages, reward_std):\n",
    "    \"\"\"\n",
    "    Utility function for plotting the results of training\n",
    "\n",
    "    :param training_steps_per_second: List[double]\n",
    "    :param reward_averages: List[double]\n",
    "    :param reward_std: List[double]\n",
    "    \"\"\"\n",
    "    plt.figure(figsize=(9, 4))\n",
    "    plt.subplots_adjust(wspace=0.5)\n",
    "    plt.subplot(1, 2, 1)\n",
    "    plt.errorbar(\n",
    "        PROCESSES_TO_TEST,\n",
    "        reward_averages,\n",
    "        yerr=reward_std,\n",
    "        capsize=2,\n",
    "        c=\"k\",\n",
    "        marker=\"o\",\n",
    "    )\n",
    "    plt.xlabel(\"Processes\")\n",
    "    plt.ylabel(\"Average return\")\n",
    "    plt.subplot(1, 2, 2)\n",
    "    plt.bar(range(len(PROCESSES_TO_TEST)), training_steps_per_second)\n",
    "    plt.xticks(range(len(PROCESSES_TO_TEST)), PROCESSES_TO_TEST)\n",
    "    plt.xlabel(\"Processes\")\n",
    "    plt.ylabel(\"Training steps per second\")"
   ]
  },
  {
   "cell_type": "code",
   "execution_count": 10,
   "metadata": {
    "colab": {
     "base_uri": "https://localhost:8080/",
     "height": 279
    },
    "colab_type": "code",
    "id": "fPWfc96JxT-k",
    "outputId": "df2b74d5-61ea-487b-9364-8ec33b4e0624"
   },
   "outputs": [
    {
     "data": {
      "image/png": "[encoded data removed]",
      "text/plain": [
       "<Figure size 900x400 with 2 Axes>"
      ]
     },
     "metadata": {},
     "output_type": "display_data"
    }
   ],
   "source": [
    "training_steps_per_second = [TRAIN_STEPS / t for t in training_times]\n",
    "\n",
    "plot_training_results(training_steps_per_second, reward_averages, reward_std)"
   ]
  },
  {
   "cell_type": "markdown",
   "metadata": {
    "colab_type": "text",
    "id": "R5xE8EX63PO9"
   },
   "source": [
    "## Sample efficiency vs wall clock time trade-off\n",
    "There is clearly a trade-off between sample efficiency, diverse experience and wall clock time. Let's try getting the best performance in a fixed amount of time, say 10 seconds per experiment"
   ]
  },
  {
   "cell_type": "code",
   "execution_count": 11,
   "metadata": {
    "colab": {
     "base_uri": "https://localhost:8080/",
     "height": 106
    },
    "outputId": "2cdda2c8-e2f0-401b-a6ea-99c80d91fe8e"
   },
   "outputs": [
    {
     "name": "stdout",
     "output_type": "stream",
     "text": [
      "Running for n_procs = 1 for steps = 7062\n"
     ]
    },
    {
     "name": "stderr",
     "output_type": "stream",
     "text": [
      "/home/ivon/code/stable-baseline3/.venv/lib/python3.10/site-packages/stable_baselines3/common/evaluation.py:67: UserWarning: Evaluation environment is not wrapped with a ``Monitor`` wrapper. This may result in reporting modified episode lengths and rewards, if other wrappers happen to modify these. Consider wrapping environment first with ``Monitor`` wrapper.\n",
      "  warnings.warn(\n"
     ]
    },
    {
     "name": "stdout",
     "output_type": "stream",
     "text": [
      "Running for n_procs = 2 for steps = 1890\n"
     ]
    },
    {
     "name": "stderr",
     "output_type": "stream",
     "text": [
      "terminate called after throwing an instance of 'c10::Error'\n",
      "  what():  fast_1 >= fast_0 INTERNAL ASSERT FAILED at \"../c10/util/ApproximateClock.cpp\":18, please report a bug to PyTorch. getCount is non-monotonic.\n",
      "Exception raised from measurePair at ../c10/util/ApproximateClock.cpp:18 (most recent call first):\n",
      "frame #0: c10::Error::Error(c10::SourceLocation, std::string) + 0x96 (0x787c531fe446 in /home/ivon/code/stable-baseline3/.venv/lib/python3.10/site-packages/torch/lib/libc10.so)\n",
      "frame #1: c10::detail::torchCheckFail(char const*, char const*, unsigned int, std::string const&) + 0x64 (0x787c531a86e4 in /home/ivon/code/stable-baseline3/.venv/lib/python3.10/site-packages/torch/lib/libc10.so)\n",
      "frame #2: c10::detail::torchInternalAssertFail(char const*, char const*, unsigned int, char const*, char const*) + 0x43 (0x787c531f9da3 in /home/ivon/code/stable-baseline3/.venv/lib/python3.10/site-packages/torch/lib/libc10.so)\n",
      "frame #3: <unknown function> + 0x85f9e (0x787c531f5f9e in /home/ivon/code/stable-baseline3/.venv/lib/python3.10/site-packages/torch/lib/libc10.so)\n",
      "frame #4: c10::ApproximateClockToUnixTimeConverter::measurePairs() + 0x2d (0x787c531f5fcd in /home/ivon/code/stable-baseline3/.venv/lib/python3.10/site-packages/torch/lib/libc10.so)\n",
      "frame #5: c10::ApproximateClockToUnixTimeConverter::ApproximateClockToUnixTimeConverter() + 0xc (0x787c531f5ffc in /home/ivon/code/stable-baseline3/.venv/lib/python3.10/site-packages/torch/lib/libc10.so)\n",
      "frame #6: <unknown function> + 0x2b239 (0x787c532bd239 in /home/ivon/code/stable-baseline3/.venv/lib/python3.10/site-packages/torch/lib/libc10_cuda.so)\n",
      "frame #7: <unknown function> + 0x16156 (0x787c532a8156 in /home/ivon/code/stable-baseline3/.venv/lib/python3.10/site-packages/torch/lib/libc10_cuda.so)\n",
      "frame #8: <unknown function> + 0x647e (0x787c53e9d47e in /lib64/ld-linux-x86-64.so.2)\n",
      "frame #9: <unknown function> + 0x6568 (0x787c53e9d568 in /lib64/ld-linux-x86-64.so.2)\n",
      "frame #10: _dl_catch_exception + 0xe5 (0x787c53b74af5 in /lib/x86_64-linux-gnu/libc.so.6)\n",
      "frame #11: <unknown function> + 0xdff6 (0x787c53ea4ff6 in /lib64/ld-linux-x86-64.so.2)\n",
      "frame #12: _dl_catch_exception + 0x88 (0x787c53b74a98 in /lib/x86_64-linux-gnu/libc.so.6)\n",
      "frame #13: <unknown function> + 0xe34e (0x787c53ea534e in /lib64/ld-linux-x86-64.so.2)\n",
      "frame #14: <unknown function> + 0x9063c (0x787c53a9063c in /lib/x86_64-linux-gnu/libc.so.6)\n",
      "frame #15: _dl_catch_exception + 0x88 (0x787c53b74a98 in /lib/x86_64-linux-gnu/libc.so.6)\n",
      "frame #16: _dl_catch_error + 0x33 (0x787c53b74b63 in /lib/x86_64-linux-gnu/libc.so.6)\n",
      "frame #17: <unknown function> + 0x9012e (0x787c53a9012e in /lib/x86_64-linux-gnu/libc.so.6)\n",
      "frame #18: dlopen + 0x48 (0x787c53a906c8 in /lib/x86_64-linux-gnu/libc.so.6)\n",
      "frame #19: <unknown function> + 0x28291f (0x5f778380b91f in /home/ivon/code/stable-baseline3/.venv/bin/python)\n",
      "frame #20: <unknown function> + 0x281537 (0x5f778380a537 in /home/ivon/code/stable-baseline3/.venv/bin/python)\n",
      "frame #21: <unknown function> + 0x18bd49 (0x5f7783714d49 in /home/ivon/code/stable-baseline3/.venv/bin/python)\n",
      "frame #22: _PyEval_EvalFrameDefault + 0x6c1d (0x5f7783704eed in /home/ivon/code/stable-baseline3/.venv/bin/python)\n",
      "frame #23: _PyFunction_Vectorcall + 0x7c (0x5f7783714aec in /home/ivon/code/stable-baseline3/.venv/bin/python)\n",
      "frame #24: _PyEval_EvalFrameDefault + 0x58aa (0x5f7783703b7a in /home/ivon/code/stable-baseline3/.venv/bin/python)\n",
      "frame #25: _PyFunction_Vectorcall + 0x7c (0x5f7783714aec in /home/ivon/code/stable-baseline3/.venv/bin/python)\n",
      "frame #26: _PyEval_EvalFrameDefault + 0x818 (0x5f77836feae8 in /home/ivon/code/stable-baseline3/.venv/bin/python)\n",
      "frame #27: _PyFunction_Vectorcall + 0x7c (0x5f7783714aec in /home/ivon/code/stable-baseline3/.venv/bin/python)\n",
      "frame #28: _PyEval_EvalFrameDefault + 0x6d2 (0x5f77836fe9a2 in /home/ivon/code/stable-baseline3/.venv/bin/python)\n",
      "frame #29: _PyFunction_Vectorcall + 0x7c (0x5f7783714aec in /home/ivon/code/stable-baseline3/.venv/bin/python)\n",
      "frame #30: _PyEval_EvalFrameDefault + 0x6d2 (0x5f77836fe9a2 in /home/ivon/code/stable-baseline3/.venv/bin/python)\n",
      "frame #31: _PyFunction_Vectorcall + 0x7c (0x5f7783714aec in /home/ivon/code/stable-baseline3/.venv/bin/python)\n",
      "frame #32: _PyEval_EvalFrameDefault + 0x6d2 (0x5f77836fe9a2 in /home/ivon/code/stable-baseline3/.venv/bin/python)\n",
      "frame #33: _PyFunction_Vectorcall + 0x7c (0x5f7783714aec in /home/ivon/code/stable-baseline3/.venv/bin/python)\n",
      "frame #34: <unknown function> + 0x18af94 (0x5f7783713f94 in /home/ivon/code/stable-baseline3/.venv/bin/python)\n",
      "frame #35: _PyObject_CallMethodIdObjArgs + 0xff (0x5f77837e8e2f in /home/ivon/code/stable-baseline3/.venv/bin/python)\n",
      "frame #36: PyImport_ImportModuleLevelObject + 0x4b5 (0x5f7783727835 in /home/ivon/code/stable-baseline3/.venv/bin/python)\n",
      "frame #37: _PyEval_EvalFrameDefault + 0x3367 (0x5f7783701637 in /home/ivon/code/stable-baseline3/.venv/bin/python)\n",
      "frame #38: <unknown function> + 0x25ae56 (0x5f77837e3e56 in /home/ivon/code/stable-baseline3/.venv/bin/python)\n",
      "frame #39: PyEval_EvalCode + 0x86 (0x5f77837e3d26 in /home/ivon/code/stable-baseline3/.venv/bin/python)\n",
      "frame #40: <unknown function> + 0x26044d (0x5f77837e944d in /home/ivon/code/stable-baseline3/.venv/bin/python)\n",
      "frame #41: <unknown function> + 0x18bd49 (0x5f7783714d49 in /home/ivon/code/stable-baseline3/.venv/bin/python)\n",
      "frame #42: _PyEval_EvalFrameDefault + 0x6c1d (0x5f7783704eed in /home/ivon/code/stable-baseline3/.venv/bin/python)\n",
      "frame #43: _PyFunction_Vectorcall + 0x7c (0x5f7783714aec in /home/ivon/code/stable-baseline3/.venv/bin/python)\n",
      "frame #44: _PyEval_EvalFrameDefault + 0x58aa (0x5f7783703b7a in /home/ivon/code/stable-baseline3/.venv/bin/python)\n",
      "frame #45: _PyFunction_Vectorcall + 0x7c (0x5f7783714aec in /home/ivon/code/stable-baseline3/.venv/bin/python)\n",
      "frame #46: _PyEval_EvalFrameDefault + 0x818 (0x5f77836feae8 in /home/ivon/code/stable-baseline3/.venv/bin/python)\n",
      "frame #47: _PyFunction_Vectorcall + 0x7c (0x5f7783714aec in /home/ivon/code/stable-baseline3/.venv/bin/python)\n",
      "frame #48: _PyEval_EvalFrameDefault + 0x6d2 (0x5f77836fe9a2 in /home/ivon/code/stable-baseline3/.venv/bin/python)\n",
      "frame #49: _PyFunction_Vectorcall + 0x7c (0x5f7783714aec in /home/ivon/code/stable-baseline3/.venv/bin/python)\n",
      "frame #50: _PyEval_EvalFrameDefault + 0x6d2 (0x5f77836fe9a2 in /home/ivon/code/stable-baseline3/.venv/bin/python)\n",
      "frame #51: _PyFunction_Vectorcall + 0x7c (0x5f7783714aec in /home/ivon/code/stable-baseline3/.venv/bin/python)\n",
      "frame #52: <unknown function> + 0x18af94 (0x5f7783713f94 in /home/ivon/code/stable-baseline3/.venv/bin/python)\n",
      "frame #53: _PyObject_CallMethodIdObjArgs + 0xff (0x5f77837e8e2f in /home/ivon/code/stable-baseline3/.venv/bin/python)\n",
      "frame #54: PyImport_ImportModuleLevelObject + 0x4b5 (0x5f7783727835 in /home/ivon/code/stable-baseline3/.venv/bin/python)\n",
      "frame #55: _PyEval_EvalFrameDefault + 0x3367 (0x5f7783701637 in /home/ivon/code/stable-baseline3/.venv/bin/python)\n",
      "frame #56: <unknown function> + 0x25ae56 (0x5f77837e3e56 in /home/ivon/code/stable-baseline3/.venv/bin/python)\n",
      "frame #57: PyEval_EvalCode + 0x86 (0x5f77837e3d26 in /home/ivon/code/stable-baseline3/.venv/bin/python)\n",
      "frame #58: <unknown function> + 0x26044d (0x5f77837e944d in /home/ivon/code/stable-baseline3/.venv/bin/python)\n",
      "frame #59: <unknown function> + 0x18bd49 (0x5f7783714d49 in /home/ivon/code/stable-baseline3/.venv/bin/python)\n",
      "frame #60: _PyEval_EvalFrameDefault + 0x6c1d (0x5f7783704eed in /home/ivon/code/stable-baseline3/.venv/bin/python)\n",
      "frame #61: _PyFunction_Vectorcall + 0x7c (0x5f7783714aec in /home/ivon/code/stable-baseline3/.venv/bin/python)\n",
      "frame #62: _PyEval_EvalFrameDefault + 0x58aa (0x5f7783703b7a in /home/ivon/code/stable-baseline3/.venv/bin/python)\n",
      "\n"
     ]
    },
    {
     "ename": "ConnectionResetError",
     "evalue": "[Errno 104] Connection reset by peer",
     "output_type": "error",
     "traceback": [
      "\u001b[0;31m---------------------------------------------------------------------------\u001b[0m",
      "\u001b[0;31mConnectionResetError\u001b[0m                      Traceback (most recent call last)",
      "Cell \u001b[0;32mIn[11], line 14\u001b[0m\n\u001b[1;32m     12\u001b[0m     train_env \u001b[38;5;241m=\u001b[39m DummyVecEnv([\u001b[38;5;28;01mlambda\u001b[39;00m: gym\u001b[38;5;241m.\u001b[39mmake(env_id)])\n\u001b[1;32m     13\u001b[0m \u001b[38;5;28;01melse\u001b[39;00m:\n\u001b[0;32m---> 14\u001b[0m     train_env \u001b[38;5;241m=\u001b[39m \u001b[43mSubprocVecEnv\u001b[49m\u001b[43m(\u001b[49m\u001b[43m[\u001b[49m\u001b[43mmake_env\u001b[49m\u001b[43m(\u001b[49m\u001b[43menv_id\u001b[49m\u001b[43m,\u001b[49m\u001b[43m \u001b[49m\u001b[43mi\u001b[49m\u001b[38;5;241;43m+\u001b[39;49m\u001b[43mtotal_procs\u001b[49m\u001b[43m)\u001b[49m\u001b[43m \u001b[49m\u001b[38;5;28;43;01mfor\u001b[39;49;00m\u001b[43m \u001b[49m\u001b[43mi\u001b[49m\u001b[43m \u001b[49m\u001b[38;5;129;43;01min\u001b[39;49;00m\u001b[43m \u001b[49m\u001b[38;5;28;43mrange\u001b[39;49m\u001b[43m(\u001b[49m\u001b[43mn_procs\u001b[49m\u001b[43m)\u001b[49m\u001b[43m]\u001b[49m\u001b[43m,\u001b[49m\u001b[43m \u001b[49m\u001b[43mstart_method\u001b[49m\u001b[38;5;241;43m=\u001b[39;49m\u001b[38;5;124;43m\"\u001b[39;49m\u001b[38;5;124;43mspawn\u001b[39;49m\u001b[38;5;124;43m\"\u001b[39;49m\u001b[43m)\u001b[49m\n\u001b[1;32m     15\u001b[0m     \u001b[38;5;66;03m# Alternatively, you can use a DummyVecEnv if the communication delays is the bottleneck\u001b[39;00m\n\u001b[1;32m     16\u001b[0m     \u001b[38;5;66;03m# train_env = DummyVecEnv([make_env(env_id, i+total_procs) for i in range(n_procs)])\u001b[39;00m\n\u001b[1;32m     18\u001b[0m rewards \u001b[38;5;241m=\u001b[39m []\n",
      "File \u001b[0;32m~/code/stable-baseline3/.venv/lib/python3.10/site-packages/stable_baselines3/common/vec_env/subproc_vec_env.py:118\u001b[0m, in \u001b[0;36mSubprocVecEnv.__init__\u001b[0;34m(self, env_fns, start_method)\u001b[0m\n\u001b[1;32m    115\u001b[0m     work_remote\u001b[38;5;241m.\u001b[39mclose()\n\u001b[1;32m    117\u001b[0m \u001b[38;5;28mself\u001b[39m\u001b[38;5;241m.\u001b[39mremotes[\u001b[38;5;241m0\u001b[39m]\u001b[38;5;241m.\u001b[39msend((\u001b[38;5;124m\"\u001b[39m\u001b[38;5;124mget_spaces\u001b[39m\u001b[38;5;124m\"\u001b[39m, \u001b[38;5;28;01mNone\u001b[39;00m))\n\u001b[0;32m--> 118\u001b[0m observation_space, action_space \u001b[38;5;241m=\u001b[39m \u001b[38;5;28;43mself\u001b[39;49m\u001b[38;5;241;43m.\u001b[39;49m\u001b[43mremotes\u001b[49m\u001b[43m[\u001b[49m\u001b[38;5;241;43m0\u001b[39;49m\u001b[43m]\u001b[49m\u001b[38;5;241;43m.\u001b[39;49m\u001b[43mrecv\u001b[49m\u001b[43m(\u001b[49m\u001b[43m)\u001b[49m\n\u001b[1;32m    120\u001b[0m \u001b[38;5;28msuper\u001b[39m()\u001b[38;5;241m.\u001b[39m\u001b[38;5;21m__init__\u001b[39m(\u001b[38;5;28mlen\u001b[39m(env_fns), observation_space, action_space)\n",
      "File \u001b[0;32m/usr/lib/python3.10/multiprocessing/connection.py:250\u001b[0m, in \u001b[0;36m_ConnectionBase.recv\u001b[0;34m(self)\u001b[0m\n\u001b[1;32m    248\u001b[0m \u001b[38;5;28mself\u001b[39m\u001b[38;5;241m.\u001b[39m_check_closed()\n\u001b[1;32m    249\u001b[0m \u001b[38;5;28mself\u001b[39m\u001b[38;5;241m.\u001b[39m_check_readable()\n\u001b[0;32m--> 250\u001b[0m buf \u001b[38;5;241m=\u001b[39m \u001b[38;5;28;43mself\u001b[39;49m\u001b[38;5;241;43m.\u001b[39;49m\u001b[43m_recv_bytes\u001b[49m\u001b[43m(\u001b[49m\u001b[43m)\u001b[49m\n\u001b[1;32m    251\u001b[0m \u001b[38;5;28;01mreturn\u001b[39;00m _ForkingPickler\u001b[38;5;241m.\u001b[39mloads(buf\u001b[38;5;241m.\u001b[39mgetbuffer())\n",
      "File \u001b[0;32m/usr/lib/python3.10/multiprocessing/connection.py:414\u001b[0m, in \u001b[0;36mConnection._recv_bytes\u001b[0;34m(self, maxsize)\u001b[0m\n\u001b[1;32m    413\u001b[0m \u001b[38;5;28;01mdef\u001b[39;00m\u001b[38;5;250m \u001b[39m\u001b[38;5;21m_recv_bytes\u001b[39m(\u001b[38;5;28mself\u001b[39m, maxsize\u001b[38;5;241m=\u001b[39m\u001b[38;5;28;01mNone\u001b[39;00m):\n\u001b[0;32m--> 414\u001b[0m     buf \u001b[38;5;241m=\u001b[39m \u001b[38;5;28;43mself\u001b[39;49m\u001b[38;5;241;43m.\u001b[39;49m\u001b[43m_recv\u001b[49m\u001b[43m(\u001b[49m\u001b[38;5;241;43m4\u001b[39;49m\u001b[43m)\u001b[49m\n\u001b[1;32m    415\u001b[0m     size, \u001b[38;5;241m=\u001b[39m struct\u001b[38;5;241m.\u001b[39munpack(\u001b[38;5;124m\"\u001b[39m\u001b[38;5;124m!i\u001b[39m\u001b[38;5;124m\"\u001b[39m, buf\u001b[38;5;241m.\u001b[39mgetvalue())\n\u001b[1;32m    416\u001b[0m     \u001b[38;5;28;01mif\u001b[39;00m size \u001b[38;5;241m==\u001b[39m \u001b[38;5;241m-\u001b[39m\u001b[38;5;241m1\u001b[39m:\n",
      "File \u001b[0;32m/usr/lib/python3.10/multiprocessing/connection.py:379\u001b[0m, in \u001b[0;36mConnection._recv\u001b[0;34m(self, size, read)\u001b[0m\n\u001b[1;32m    377\u001b[0m remaining \u001b[38;5;241m=\u001b[39m size\n\u001b[1;32m    378\u001b[0m \u001b[38;5;28;01mwhile\u001b[39;00m remaining \u001b[38;5;241m>\u001b[39m \u001b[38;5;241m0\u001b[39m:\n\u001b[0;32m--> 379\u001b[0m     chunk \u001b[38;5;241m=\u001b[39m \u001b[43mread\u001b[49m\u001b[43m(\u001b[49m\u001b[43mhandle\u001b[49m\u001b[43m,\u001b[49m\u001b[43m \u001b[49m\u001b[43mremaining\u001b[49m\u001b[43m)\u001b[49m\n\u001b[1;32m    380\u001b[0m     n \u001b[38;5;241m=\u001b[39m \u001b[38;5;28mlen\u001b[39m(chunk)\n\u001b[1;32m    381\u001b[0m     \u001b[38;5;28;01mif\u001b[39;00m n \u001b[38;5;241m==\u001b[39m \u001b[38;5;241m0\u001b[39m:\n",
      "\u001b[0;31mConnectionResetError\u001b[0m: [Errno 104] Connection reset by peer"
     ]
    }
   ],
   "source": [
    "SECONDS_PER_EXPERIMENT = 10\n",
    "steps_per_experiment = [int(SECONDS_PER_EXPERIMENT * fps) for fps in training_steps_per_second]\n",
    "reward_averages = []\n",
    "reward_std = []\n",
    "training_times = []\n",
    "\n",
    "for n_procs, train_steps in zip(PROCESSES_TO_TEST, steps_per_experiment):\n",
    "    total_procs += n_procs\n",
    "    print(f\"Running for n_procs = {n_procs} for steps = {train_steps}\")\n",
    "    if n_procs == 1:\n",
    "        # if there is only one process, there is no need to use multiprocessing\n",
    "        train_env = DummyVecEnv([lambda: gym.make(env_id)])\n",
    "    else:\n",
    "        train_env = SubprocVecEnv([make_env(env_id, i+total_procs) for i in range(n_procs)], start_method=\"spawn\")\n",
    "        # Alternatively, you can use a DummyVecEnv if the communication delays is the bottleneck\n",
    "        # train_env = DummyVecEnv([make_env(env_id, i+total_procs) for i in range(n_procs)])\n",
    "\n",
    "    rewards = []\n",
    "    times = []\n",
    "\n",
    "    for experiment in range(NUM_EXPERIMENTS):\n",
    "        # it is recommended to run several experiments due to variability in results\n",
    "        train_env.reset()\n",
    "        model = ALGO(\"MlpPolicy\", train_env, verbose=0)\n",
    "        start = time.time()\n",
    "        model.learn(total_timesteps=train_steps)\n",
    "        times.append(time.time() - start)\n",
    "        mean_reward, _ = evaluate_policy(model, eval_env, n_eval_episodes=EVAL_EPS)\n",
    "        rewards.append(mean_reward)\n",
    "\n",
    "    train_env.close()\n",
    "    reward_averages.append(np.mean(rewards))\n",
    "    reward_std.append(np.std(rewards))\n",
    "    training_times.append(np.mean(times))\n"
   ]
  },
  {
   "cell_type": "markdown",
   "metadata": {
    "colab_type": "text",
    "id": "G7a7ZiVw5A11"
   },
   "source": [
    "## Plot the results"
   ]
  },
  {
   "cell_type": "code",
   "execution_count": null,
   "metadata": {
    "colab": {
     "base_uri": "https://localhost:8080/",
     "height": 297
    },
    "colab_type": "code",
    "id": "EQXJ1hI46DVB",
    "outputId": "d5b47716-3551-47b1-f690-16d726e89a05"
   },
   "outputs": [],
   "source": [
    "training_steps_per_second = [s / t for s,t in zip(steps_per_experiment, training_times)]\n",
    "\n",
    "plot_training_results(training_steps_per_second, reward_averages, reward_std)"
   ]
  },
  {
   "cell_type": "markdown",
   "metadata": {
    "colab_type": "text",
    "id": "0FcOcVf5rY3C"
   },
   "source": [
    "## DummyVecEnv vs SubprocVecEnv"
   ]
  },
  {
   "cell_type": "code",
   "execution_count": null,
   "metadata": {
    "colab": {
     "base_uri": "https://localhost:8080/",
     "height": 106
    },
    "colab_type": "code",
    "id": "MebaTHQvqhoH",
    "outputId": "637e9934-e6b1-4ce3-a401-c20f23437e67"
   },
   "outputs": [],
   "source": [
    "reward_averages = []\n",
    "reward_std = []\n",
    "training_times = []\n",
    "total_procs = 0\n",
    "for n_procs in PROCESSES_TO_TEST:\n",
    "    total_procs += n_procs\n",
    "    print(f'Running for n_procs = {n_procs}'))\n",
    "    # Here we are using only one process even for n_env > 1\n",
    "    # this is equivalent to DummyVecEnv([make_env(env_id, i + total_procs) for i in range(n_procs)])\n",
    "    train_env = make_vec_env(env_id, n_envs=n_procs)\n",
    "\n",
    "    rewards = []\n",
    "    times = []\n",
    "\n",
    "    for experiment in range(NUM_EXPERIMENTS):\n",
    "        # it is recommended to run several experiments due to variability in results\n",
    "        train_env.reset()\n",
    "        model = ALGO(\"MlpPolicy\", train_env, verbose=0)\n",
    "        start = time.time()\n",
    "        model.learn(total_timesteps=TRAIN_STEPS)\n",
    "        times.append(time.time() - start)\n",
    "        mean_reward, _ = evaluate_policy(model, eval_env, n_eval_episodes=EVAL_EPS)\n",
    "        rewards.append(mean_reward)\n",
    "\n",
    "    train_env.close()\n",
    "    reward_averages.append(np.mean(rewards))\n",
    "    reward_std.append(np.std(rewards))\n",
    "    training_times.append(np.mean(times))"
   ]
  },
  {
   "cell_type": "code",
   "execution_count": null,
   "metadata": {
    "colab": {
     "base_uri": "https://localhost:8080/",
     "height": 297
    },
    "colab_type": "code",
    "id": "kmMr_c1hqmoi",
    "outputId": "cc174025-ed75-4897-f745-c08944493366"
   },
   "outputs": [],
   "source": [
    "training_steps_per_second = [TRAIN_STEPS / t for t in training_times]\n",
    "\n",
    "plot_training_results(training_steps_per_second, reward_averages, reward_std)"
   ]
  },
  {
   "cell_type": "markdown",
   "metadata": {
    "colab_type": "text",
    "id": "e9PNbT35spZW"
   },
   "source": [
    "### What's happening?\n",
    "\n",
    "It seems that having only one process for n environments is faster in our case.\n",
    "In practice, the bottleneck does not come from the environment computation, but from synchronisation and communication between processes. To learn more about that problem, you can start [here](https://github.com/hill-a/stable-baselines/issues/322#issuecomment-492202915)"
   ]
  },
  {
   "cell_type": "markdown",
   "metadata": {
    "colab_type": "text",
    "id": "GlcJPYN-6ebp"
   },
   "source": [
    "## Conclusions\n",
    "This notebook has highlighted some of the pros and cons of multiprocessing. It is worth mentioning that colab notebooks only provide two CPU cores per process, so we do not see a linear scaling of the FPS of the environments. State of the art Deep RL research has scaled parallel processing to tens of thousands of CPU cores, [OpenAI RAPID](https://openai.com/blog/how-to-train-your-openai-five/) [IMPALA](https://arxiv.org/abs/1802.01561).\n",
    "\n",
    "Do you think this direction of research is transferable to real world robots / intelligent agents?\n",
    "\n",
    "Things to try:\n",
    "* Another algorithm / environment.\n",
    "* Increase the number of experiments.\n",
    "* Train for more iterations.\n"
   ]
  }
 ],
 "metadata": {
  "colab": {
   "collapsed_sections": [],
   "include_colab_link": true,
   "name": "3_multiprocessing.ipynb",
   "provenance": []
  },
  "kernelspec": {
   "display_name": ".venv",
   "language": "python",
   "name": "python3"
  },
  "language_info": {
   "codemirror_mode": {
    "name": "ipython",
    "version": 3
   },
   "file_extension": ".py",
   "mimetype": "text/x-python",
   "name": "python",
   "nbconvert_exporter": "python",
   "pygments_lexer": "ipython3",
   "version": "3.10.12"
  }
 },
 "nbformat": 4,
 "nbformat_minor": 4
}
