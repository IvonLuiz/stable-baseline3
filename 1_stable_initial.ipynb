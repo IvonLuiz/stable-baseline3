{
 "cells": [
  {
   "attachments": {},
   "cell_type": "markdown",
   "metadata": {
    "colab_type": "text",
    "id": "view-in-github"
   },
   "source": [
    "<a href=\"https://colab.research.google.com/github/araffin/rl-tutorial-jnrr19/blob/sb3/1_getting_started.ipynb\" target=\"_parent\"><img src=\"https://colab.research.google.com/assets/colab-badge.svg\" alt=\"Open In Colab\"/></a>"
   ]
  },
  {
   "attachments": {},
   "cell_type": "markdown",
   "metadata": {
    "colab_type": "text",
    "id": "hyyN-2qyK_T2"
   },
   "source": [
    "# Stable Baselines3 Tutorial - Getting Started\n",
    "\n",
    "Github repo: https://github.com/araffin/rl-tutorial-jnrr19/tree/sb3/\n",
    "\n",
    "Stable-Baselines3: https://github.com/DLR-RM/stable-baselines3\n",
    "\n",
    "Documentation: https://stable-baselines3.readthedocs.io/en/master/\n",
    "\n",
    "SB3-Contrib: https://github.com/Stable-Baselines-Team/stable-baselines3-contrib\n",
    "\n",
    "RL Baselines3 zoo: https://github.com/DLR-RM/rl-baselines3-zoo\n",
    "\n",
    "[RL Baselines3 Zoo](https://github.com/DLR-RM/rl-baselines3-zoo) is a training framework for Reinforcement Learning (RL), using Stable Baselines3.\n",
    "\n",
    "It provides scripts for training, evaluating agents, tuning hyperparameters, plotting results and recording videos.\n",
    "\n",
    "\n",
    "## Introduction\n",
    "\n",
    "In this notebook, you will learn the basics for using stable baselines library: how to create a RL model, train it and evaluate it. Because all algorithms share the same interface, we will see how simple it is to switch from one algorithm to another.\n",
    "\n",
    "\n",
    "## Install Dependencies and Stable Baselines3 Using Pip\n",
    "\n",
    "List of full dependencies can be found in the [README](https://github.com/DLR-RM/stable-baselines3).\n",
    "\n",
    "\n",
    "```\n",
    "pip install stable-baselines3[extra]\n",
    "```"
   ]
  },
  {
   "cell_type": "code",
   "execution_count": 18,
   "metadata": {},
   "outputs": [],
   "source": [
    "# for autoformatting\n",
    "# %load_ext jupyter_black"
   ]
  },
  {
   "cell_type": "code",
   "execution_count": 19,
   "metadata": {
    "colab": {
     "base_uri": "https://localhost:8080/",
     "height": 784
    },
    "colab_type": "code",
    "id": "gWskDE2c9WoN",
    "outputId": "03477445-4249-49c3-ddba-4e12df09e98e"
   },
   "outputs": [
    {
     "name": "stdout",
     "output_type": "stream",
     "text": [
      "E: Could not open lock file /var/lib/dpkg/lock-frontend - open (13: Permission denied)\n",
      "E: Unable to acquire the dpkg frontend lock (/var/lib/dpkg/lock-frontend), are you root?\n",
      "Requirement already satisfied: stable-baselines3[extra]>=2.0.0a4 in ./.venv/lib/python3.10/site-packages (2.4.1)\n",
      "Requirement already satisfied: gymnasium<1.1.0,>=0.29.1 in ./.venv/lib/python3.10/site-packages (from stable-baselines3[extra]>=2.0.0a4) (1.0.0)\n",
      "Requirement already satisfied: numpy<2.0,>=1.20 in ./.venv/lib/python3.10/site-packages (from stable-baselines3[extra]>=2.0.0a4) (1.26.4)\n",
      "Requirement already satisfied: torch>=1.13 in ./.venv/lib/python3.10/site-packages (from stable-baselines3[extra]>=2.0.0a4) (2.5.1)\n",
      "Requirement already satisfied: cloudpickle in ./.venv/lib/python3.10/site-packages (from stable-baselines3[extra]>=2.0.0a4) (3.1.1)\n",
      "Requirement already satisfied: matplotlib in ./.venv/lib/python3.10/site-packages (from stable-baselines3[extra]>=2.0.0a4) (3.10.0)\n",
      "Requirement already satisfied: pandas in ./.venv/lib/python3.10/site-packages (from stable-baselines3[extra]>=2.0.0a4) (2.2.3)\n",
      "Requirement already satisfied: pygame in ./.venv/lib/python3.10/site-packages (from stable-baselines3[extra]>=2.0.0a4) (2.6.1)\n",
      "Requirement already satisfied: psutil in ./.venv/lib/python3.10/site-packages (from stable-baselines3[extra]>=2.0.0a4) (6.1.1)\n",
      "Requirement already satisfied: tensorboard>=2.9.1 in ./.venv/lib/python3.10/site-packages (from stable-baselines3[extra]>=2.0.0a4) (2.18.0)\n",
      "Requirement already satisfied: pillow in ./.venv/lib/python3.10/site-packages (from stable-baselines3[extra]>=2.0.0a4) (10.4.0)\n",
      "Requirement already satisfied: ale-py>=0.9.0 in ./.venv/lib/python3.10/site-packages (from stable-baselines3[extra]>=2.0.0a4) (0.10.1)\n",
      "Requirement already satisfied: rich in ./.venv/lib/python3.10/site-packages (from stable-baselines3[extra]>=2.0.0a4) (13.9.4)\n",
      "Requirement already satisfied: opencv-python in ./.venv/lib/python3.10/site-packages (from stable-baselines3[extra]>=2.0.0a4) (4.10.0.84)\n",
      "Requirement already satisfied: tqdm in ./.venv/lib/python3.10/site-packages (from stable-baselines3[extra]>=2.0.0a4) (4.67.1)\n",
      "Requirement already satisfied: typing-extensions in ./.venv/lib/python3.10/site-packages (from ale-py>=0.9.0->stable-baselines3[extra]>=2.0.0a4) (4.12.2)\n",
      "Requirement already satisfied: farama-notifications>=0.0.1 in ./.venv/lib/python3.10/site-packages (from gymnasium<1.1.0,>=0.29.1->stable-baselines3[extra]>=2.0.0a4) (0.0.4)\n",
      "Requirement already satisfied: packaging in ./.venv/lib/python3.10/site-packages (from tensorboard>=2.9.1->stable-baselines3[extra]>=2.0.0a4) (24.2)\n",
      "Requirement already satisfied: grpcio>=1.48.2 in ./.venv/lib/python3.10/site-packages (from tensorboard>=2.9.1->stable-baselines3[extra]>=2.0.0a4) (1.69.0)\n",
      "Requirement already satisfied: markdown>=2.6.8 in ./.venv/lib/python3.10/site-packages (from tensorboard>=2.9.1->stable-baselines3[extra]>=2.0.0a4) (3.7)\n",
      "Requirement already satisfied: absl-py>=0.4 in ./.venv/lib/python3.10/site-packages (from tensorboard>=2.9.1->stable-baselines3[extra]>=2.0.0a4) (2.1.0)\n",
      "Requirement already satisfied: setuptools>=41.0.0 in ./.venv/lib/python3.10/site-packages (from tensorboard>=2.9.1->stable-baselines3[extra]>=2.0.0a4) (59.6.0)\n",
      "Requirement already satisfied: six>1.9 in ./.venv/lib/python3.10/site-packages (from tensorboard>=2.9.1->stable-baselines3[extra]>=2.0.0a4) (1.17.0)\n",
      "Requirement already satisfied: werkzeug>=1.0.1 in ./.venv/lib/python3.10/site-packages (from tensorboard>=2.9.1->stable-baselines3[extra]>=2.0.0a4) (3.1.3)\n",
      "Requirement already satisfied: protobuf!=4.24.0,>=3.19.6 in ./.venv/lib/python3.10/site-packages (from tensorboard>=2.9.1->stable-baselines3[extra]>=2.0.0a4) (5.29.3)\n",
      "Requirement already satisfied: tensorboard-data-server<0.8.0,>=0.7.0 in ./.venv/lib/python3.10/site-packages (from tensorboard>=2.9.1->stable-baselines3[extra]>=2.0.0a4) (0.7.2)\n",
      "Requirement already satisfied: nvidia-curand-cu12==10.3.5.147 in ./.venv/lib/python3.10/site-packages (from torch>=1.13->stable-baselines3[extra]>=2.0.0a4) (10.3.5.147)\n",
      "Requirement already satisfied: filelock in ./.venv/lib/python3.10/site-packages (from torch>=1.13->stable-baselines3[extra]>=2.0.0a4) (3.16.1)\n",
      "Requirement already satisfied: triton==3.1.0 in ./.venv/lib/python3.10/site-packages (from torch>=1.13->stable-baselines3[extra]>=2.0.0a4) (3.1.0)\n",
      "Requirement already satisfied: networkx in ./.venv/lib/python3.10/site-packages (from torch>=1.13->stable-baselines3[extra]>=2.0.0a4) (3.4.2)\n",
      "Requirement already satisfied: nvidia-cusolver-cu12==11.6.1.9 in ./.venv/lib/python3.10/site-packages (from torch>=1.13->stable-baselines3[extra]>=2.0.0a4) (11.6.1.9)\n",
      "Requirement already satisfied: nvidia-cufft-cu12==11.2.1.3 in ./.venv/lib/python3.10/site-packages (from torch>=1.13->stable-baselines3[extra]>=2.0.0a4) (11.2.1.3)\n",
      "Requirement already satisfied: sympy==1.13.1 in ./.venv/lib/python3.10/site-packages (from torch>=1.13->stable-baselines3[extra]>=2.0.0a4) (1.13.1)\n",
      "Requirement already satisfied: nvidia-cusparse-cu12==12.3.1.170 in ./.venv/lib/python3.10/site-packages (from torch>=1.13->stable-baselines3[extra]>=2.0.0a4) (12.3.1.170)\n",
      "Requirement already satisfied: nvidia-cuda-nvrtc-cu12==12.4.127 in ./.venv/lib/python3.10/site-packages (from torch>=1.13->stable-baselines3[extra]>=2.0.0a4) (12.4.127)\n",
      "Requirement already satisfied: nvidia-nvjitlink-cu12==12.4.127 in ./.venv/lib/python3.10/site-packages (from torch>=1.13->stable-baselines3[extra]>=2.0.0a4) (12.4.127)\n",
      "Requirement already satisfied: jinja2 in ./.venv/lib/python3.10/site-packages (from torch>=1.13->stable-baselines3[extra]>=2.0.0a4) (3.1.5)\n",
      "Requirement already satisfied: nvidia-cudnn-cu12==9.1.0.70 in ./.venv/lib/python3.10/site-packages (from torch>=1.13->stable-baselines3[extra]>=2.0.0a4) (9.1.0.70)\n",
      "Requirement already satisfied: nvidia-nccl-cu12==2.21.5 in ./.venv/lib/python3.10/site-packages (from torch>=1.13->stable-baselines3[extra]>=2.0.0a4) (2.21.5)\n",
      "Requirement already satisfied: nvidia-nvtx-cu12==12.4.127 in ./.venv/lib/python3.10/site-packages (from torch>=1.13->stable-baselines3[extra]>=2.0.0a4) (12.4.127)\n",
      "Requirement already satisfied: nvidia-cuda-runtime-cu12==12.4.127 in ./.venv/lib/python3.10/site-packages (from torch>=1.13->stable-baselines3[extra]>=2.0.0a4) (12.4.127)\n",
      "Requirement already satisfied: nvidia-cublas-cu12==12.4.5.8 in ./.venv/lib/python3.10/site-packages (from torch>=1.13->stable-baselines3[extra]>=2.0.0a4) (12.4.5.8)\n",
      "Requirement already satisfied: fsspec in ./.venv/lib/python3.10/site-packages (from torch>=1.13->stable-baselines3[extra]>=2.0.0a4) (2024.12.0)\n",
      "Requirement already satisfied: nvidia-cuda-cupti-cu12==12.4.127 in ./.venv/lib/python3.10/site-packages (from torch>=1.13->stable-baselines3[extra]>=2.0.0a4) (12.4.127)\n",
      "Requirement already satisfied: mpmath<1.4,>=1.1.0 in ./.venv/lib/python3.10/site-packages (from sympy==1.13.1->torch>=1.13->stable-baselines3[extra]>=2.0.0a4) (1.3.0)\n",
      "Requirement already satisfied: python-dateutil>=2.7 in ./.venv/lib/python3.10/site-packages (from matplotlib->stable-baselines3[extra]>=2.0.0a4) (2.9.0.post0)\n",
      "Requirement already satisfied: contourpy>=1.0.1 in ./.venv/lib/python3.10/site-packages (from matplotlib->stable-baselines3[extra]>=2.0.0a4) (1.3.1)\n",
      "Requirement already satisfied: fonttools>=4.22.0 in ./.venv/lib/python3.10/site-packages (from matplotlib->stable-baselines3[extra]>=2.0.0a4) (4.55.3)\n",
      "Requirement already satisfied: pyparsing>=2.3.1 in ./.venv/lib/python3.10/site-packages (from matplotlib->stable-baselines3[extra]>=2.0.0a4) (3.2.1)\n",
      "Requirement already satisfied: cycler>=0.10 in ./.venv/lib/python3.10/site-packages (from matplotlib->stable-baselines3[extra]>=2.0.0a4) (0.12.1)\n",
      "Requirement already satisfied: kiwisolver>=1.3.1 in ./.venv/lib/python3.10/site-packages (from matplotlib->stable-baselines3[extra]>=2.0.0a4) (1.4.8)\n",
      "Requirement already satisfied: tzdata>=2022.7 in ./.venv/lib/python3.10/site-packages (from pandas->stable-baselines3[extra]>=2.0.0a4) (2024.2)\n",
      "Requirement already satisfied: pytz>=2020.1 in ./.venv/lib/python3.10/site-packages (from pandas->stable-baselines3[extra]>=2.0.0a4) (2024.2)\n",
      "Requirement already satisfied: markdown-it-py>=2.2.0 in ./.venv/lib/python3.10/site-packages (from rich->stable-baselines3[extra]>=2.0.0a4) (3.0.0)\n",
      "Requirement already satisfied: pygments<3.0.0,>=2.13.0 in ./.venv/lib/python3.10/site-packages (from rich->stable-baselines3[extra]>=2.0.0a4) (2.19.1)\n",
      "Requirement already satisfied: mdurl~=0.1 in ./.venv/lib/python3.10/site-packages (from markdown-it-py>=2.2.0->rich->stable-baselines3[extra]>=2.0.0a4) (0.1.2)\n",
      "Requirement already satisfied: MarkupSafe>=2.1.1 in ./.venv/lib/python3.10/site-packages (from werkzeug>=1.0.1->tensorboard>=2.9.1->stable-baselines3[extra]>=2.0.0a4) (3.0.2)\n"
     ]
    }
   ],
   "source": [
    "!apt-get install ffmpeg freeglut3-dev xvfb  # For visualization\n",
    "!pip install \"stable-baselines3[extra]>=2.0.0a4\""
   ]
  },
  {
   "cell_type": "code",
   "execution_count": 20,
   "metadata": {},
   "outputs": [
    {
     "name": "stdout",
     "output_type": "stream",
     "text": [
      "Requirement already satisfied: gymnasium[other] in ./.venv/lib/python3.10/site-packages (1.0.0)\n",
      "Requirement already satisfied: typing-extensions>=4.3.0 in ./.venv/lib/python3.10/site-packages (from gymnasium[other]) (4.12.2)\n",
      "Requirement already satisfied: cloudpickle>=1.2.0 in ./.venv/lib/python3.10/site-packages (from gymnasium[other]) (3.1.1)\n",
      "Requirement already satisfied: numpy>=1.21.0 in ./.venv/lib/python3.10/site-packages (from gymnasium[other]) (1.26.4)\n",
      "Requirement already satisfied: farama-notifications>=0.0.1 in ./.venv/lib/python3.10/site-packages (from gymnasium[other]) (0.0.4)\n",
      "Requirement already satisfied: moviepy>=1.0.0 in ./.venv/lib/python3.10/site-packages (from gymnasium[other]) (2.1.2)\n",
      "Requirement already satisfied: matplotlib>=3.0 in ./.venv/lib/python3.10/site-packages (from gymnasium[other]) (3.10.0)\n",
      "Requirement already satisfied: opencv-python>=3.0 in ./.venv/lib/python3.10/site-packages (from gymnasium[other]) (4.10.0.84)\n",
      "Requirement already satisfied: pyparsing>=2.3.1 in ./.venv/lib/python3.10/site-packages (from matplotlib>=3.0->gymnasium[other]) (3.2.1)\n",
      "Requirement already satisfied: cycler>=0.10 in ./.venv/lib/python3.10/site-packages (from matplotlib>=3.0->gymnasium[other]) (0.12.1)\n",
      "Requirement already satisfied: pillow>=8 in ./.venv/lib/python3.10/site-packages (from matplotlib>=3.0->gymnasium[other]) (10.4.0)\n",
      "Requirement already satisfied: contourpy>=1.0.1 in ./.venv/lib/python3.10/site-packages (from matplotlib>=3.0->gymnasium[other]) (1.3.1)\n",
      "Requirement already satisfied: python-dateutil>=2.7 in ./.venv/lib/python3.10/site-packages (from matplotlib>=3.0->gymnasium[other]) (2.9.0.post0)\n",
      "Requirement already satisfied: packaging>=20.0 in ./.venv/lib/python3.10/site-packages (from matplotlib>=3.0->gymnasium[other]) (24.2)\n",
      "Requirement already satisfied: fonttools>=4.22.0 in ./.venv/lib/python3.10/site-packages (from matplotlib>=3.0->gymnasium[other]) (4.55.3)\n",
      "Requirement already satisfied: kiwisolver>=1.3.1 in ./.venv/lib/python3.10/site-packages (from matplotlib>=3.0->gymnasium[other]) (1.4.8)\n",
      "Requirement already satisfied: imageio_ffmpeg>=0.2.0 in ./.venv/lib/python3.10/site-packages (from moviepy>=1.0.0->gymnasium[other]) (0.5.1)\n",
      "Requirement already satisfied: proglog<=1.0.0 in ./.venv/lib/python3.10/site-packages (from moviepy>=1.0.0->gymnasium[other]) (0.1.10)\n",
      "Requirement already satisfied: imageio<3.0,>=2.5 in ./.venv/lib/python3.10/site-packages (from moviepy>=1.0.0->gymnasium[other]) (2.36.1)\n",
      "Requirement already satisfied: python-dotenv>=0.10 in ./.venv/lib/python3.10/site-packages (from moviepy>=1.0.0->gymnasium[other]) (1.0.1)\n",
      "Requirement already satisfied: decorator<6.0,>=4.0.2 in ./.venv/lib/python3.10/site-packages (from moviepy>=1.0.0->gymnasium[other]) (5.1.1)\n",
      "Requirement already satisfied: setuptools in ./.venv/lib/python3.10/site-packages (from imageio_ffmpeg>=0.2.0->moviepy>=1.0.0->gymnasium[other]) (59.6.0)\n",
      "Requirement already satisfied: tqdm in ./.venv/lib/python3.10/site-packages (from proglog<=1.0.0->moviepy>=1.0.0->gymnasium[other]) (4.67.1)\n",
      "Requirement already satisfied: six>=1.5 in ./.venv/lib/python3.10/site-packages (from python-dateutil>=2.7->matplotlib>=3.0->gymnasium[other]) (1.17.0)\n"
     ]
    }
   ],
   "source": [
    "!pip install 'gymnasium[other]'"
   ]
  },
  {
   "attachments": {},
   "cell_type": "markdown",
   "metadata": {
    "colab_type": "text",
    "id": "FtY8FhliLsGm"
   },
   "source": [
    "## Imports"
   ]
  },
  {
   "attachments": {},
   "cell_type": "markdown",
   "metadata": {
    "colab_type": "text",
    "id": "gcX8hEcaUpR0"
   },
   "source": [
    "Stable-Baselines3 works on environments that follow the [gym interface](https://stable-baselines3.readthedocs.io/en/master/guide/custom_env.html).\n",
    "You can find a list of available environment [here](https://gymnasium.farama.org/environments/classic_control/).\n",
    "\n",
    "Not all algorithms can work with all action spaces, you can find more in this [recap table](https://stable-baselines3.readthedocs.io/en/master/guide/algos.html)"
   ]
  },
  {
   "cell_type": "code",
   "execution_count": 21,
   "metadata": {
    "colab": {},
    "colab_type": "code",
    "id": "BIedd7Pz9sOs"
   },
   "outputs": [],
   "source": [
    "import gymnasium as gym\n",
    "import numpy as np"
   ]
  },
  {
   "attachments": {},
   "cell_type": "markdown",
   "metadata": {
    "colab_type": "text",
    "id": "Ae32CtgzTG3R"
   },
   "source": [
    "The first thing you need to import is the RL model, check the documentation to know what you can use on which problem"
   ]
  },
  {
   "cell_type": "code",
   "execution_count": 22,
   "metadata": {
    "colab": {},
    "colab_type": "code",
    "id": "R7tKaBFrTR0a"
   },
   "outputs": [],
   "source": [
    "from stable_baselines3 import PPO"
   ]
  },
  {
   "attachments": {},
   "cell_type": "markdown",
   "metadata": {
    "colab_type": "text",
    "id": "-0_8OQbOTTNT"
   },
   "source": [
    "The next thing you need to import is the policy class that will be used to create the networks (for the policy/value functions).\n",
    "This step is optional as you can directly use strings in the constructor: \n",
    "\n",
    "```PPO('MlpPolicy', env)``` instead of ```PPO(MlpPolicy, env)```\n",
    "\n",
    "Note that some algorithms like `SAC` have their own `MlpPolicy`, that's why using string for the policy is the recommended option."
   ]
  },
  {
   "cell_type": "code",
   "execution_count": 23,
   "metadata": {
    "colab": {},
    "colab_type": "code",
    "id": "ROUJr675TT01"
   },
   "outputs": [],
   "source": [
    "from stable_baselines3.ppo.policies import MlpPolicy"
   ]
  },
  {
   "attachments": {},
   "cell_type": "markdown",
   "metadata": {
    "colab_type": "text",
    "id": "RapkYvTXL7Cd"
   },
   "source": [
    "## Create the Gym env and instantiate the agent\n",
    "\n",
    "For this example, we will use CartPole environment, a classic control problem.\n",
    "\n",
    "\"A pole is attached by an un-actuated joint to a cart, which moves along a frictionless track. The system is controlled by applying a force of +1 or -1 to the cart. The pendulum starts upright, and the goal is to prevent it from falling over. A reward of +1 is provided for every timestep that the pole remains upright. \"\n",
    "\n",
    "Cartpole environment: [https://gymnasium.farama.org/environments/classic_control/cart_pole/](https://gymnasium.farama.org/environments/classic_control/cart_pole/)\n",
    "\n",
    "![Cartpole](https://cdn-images-1.medium.com/max/1143/1*h4WTQNVIsvMXJTCpXm_TAw.gif)\n",
    "\n",
    "\n",
    "We chose the MlpPolicy because the observation of the CartPole task is a feature vector, not images.\n",
    "\n",
    "The type of action to use (discrete/continuous) will be automatically deduced from the environment action space\n",
    "\n",
    "Here we are using the [Proximal Policy Optimization](https://stable-baselines3.readthedocs.io/en/master/modules/ppo.html) algorithm, which is an Actor-Critic method: it uses a value function to improve the policy gradient descent (by reducing the variance).\n",
    "\n",
    "It combines ideas from [A2C](https://stable-baselines3.readthedocs.io/en/master/modules/a2c.html) (having multiple workers and using an entropy bonus for exploration) and [TRPO](https://stable-baselines.readthedocs.io/en/master/modules/trpo.html) (it uses a trust region to improve stability and avoid catastrophic drops in performance).\n",
    "\n",
    "PPO is an on-policy algorithm, which means that the trajectories used to update the networks must be collected using the latest policy.\n",
    "It is usually less sample efficient than off-policy alorithms like [DQN](https://stable-baselines.readthedocs.io/en/master/modules/dqn.html), [SAC](https://stable-baselines3.readthedocs.io/en/master/modules/sac.html) or [TD3](https://stable-baselines3.readthedocs.io/en/master/modules/td3.html), but is much faster regarding wall-clock time.\n"
   ]
  },
  {
   "cell_type": "code",
   "execution_count": 24,
   "metadata": {
    "colab": {},
    "colab_type": "code",
    "id": "pUWGZp3i9wyf"
   },
   "outputs": [],
   "source": [
    "env = gym.make(\"CartPole-v1\")\n",
    "\n",
    "model = PPO(MlpPolicy, env, verbose=0)"
   ]
  },
  {
   "attachments": {},
   "cell_type": "markdown",
   "metadata": {
    "colab_type": "text",
    "id": "4efFdrQ7MBvl"
   },
   "source": [
    "We create a helper function to evaluate the agent:"
   ]
  },
  {
   "cell_type": "code",
   "execution_count": 25,
   "metadata": {
    "colab": {},
    "colab_type": "code",
    "id": "63M8mSKR-6Zt"
   },
   "outputs": [],
   "source": [
    "from stable_baselines3.common.base_class import BaseAlgorithm\n",
    "\n",
    "\n",
    "def evaluate(\n",
    "    model: BaseAlgorithm,\n",
    "    num_episodes: int = 100,\n",
    "    deterministic: bool = True,\n",
    ") -> float:\n",
    "    \"\"\"\n",
    "    Evaluate an RL agent for `num_episodes`.\n",
    "\n",
    "    :param model: the RL Agent\n",
    "    :param env: the gym Environment\n",
    "    :param num_episodes: number of episodes to evaluate it\n",
    "    :param deterministic: Whether to use deterministic or stochastic actions\n",
    "    :return: Mean reward for the last `num_episodes`\n",
    "    \"\"\"\n",
    "    # This function will only work for a single environment\n",
    "    vec_env = model.get_env()\n",
    "    obs = vec_env.reset()\n",
    "    all_episode_rewards = []\n",
    "    for _ in range(num_episodes):\n",
    "        episode_rewards = []\n",
    "        done = False\n",
    "        # Note: SB3 VecEnv resets automatically:\n",
    "        # https://stable-baselines3.readthedocs.io/en/master/guide/vec_envs.html#vecenv-api-vs-gym-api\n",
    "        # obs = vec_env.reset()\n",
    "        while not done:\n",
    "            # _states are only useful when using LSTM policies\n",
    "            # `deterministic` is to use deterministic actions\n",
    "            action, _states = model.predict(obs, deterministic=deterministic)\n",
    "            # here, action, rewards and dones are arrays\n",
    "            # because we are using vectorized env\n",
    "            obs, reward, done, _info = vec_env.step(action)\n",
    "            episode_rewards.append(reward)\n",
    "\n",
    "        all_episode_rewards.append(sum(episode_rewards))\n",
    "\n",
    "    mean_episode_reward = np.mean(all_episode_rewards)\n",
    "    print(f\"Mean reward: {mean_episode_reward:.2f} - Num episodes: {num_episodes}\")\n",
    "\n",
    "    return mean_episode_reward"
   ]
  },
  {
   "attachments": {},
   "cell_type": "markdown",
   "metadata": {
    "colab_type": "text",
    "id": "zjEVOIY8NVeK"
   },
   "source": [
    "Let's evaluate the un-trained agent, this should be a random agent."
   ]
  },
  {
   "cell_type": "code",
   "execution_count": 26,
   "metadata": {
    "colab": {
     "base_uri": "https://localhost:8080/",
     "height": 35
    },
    "colab_type": "code",
    "id": "xDHLMA6NFk95",
    "outputId": "231b2170-a607-48ed-e9d9-daef596f6384"
   },
   "outputs": [
    {
     "name": "stdout",
     "output_type": "stream",
     "text": [
      "Mean reward: 9.38 - Num episodes: 100\n"
     ]
    }
   ],
   "source": [
    "# Random Agent, before training\n",
    "mean_reward_before_train = evaluate(model, num_episodes=100, deterministic=True)"
   ]
  },
  {
   "attachments": {},
   "cell_type": "markdown",
   "metadata": {
    "colab_type": "text",
    "id": "QjjPxrwkYJ2i"
   },
   "source": [
    "Stable-Baselines already provides you with that helper:"
   ]
  },
  {
   "cell_type": "code",
   "execution_count": 27,
   "metadata": {
    "colab": {},
    "colab_type": "code",
    "id": "8z6K9YImYJEx"
   },
   "outputs": [],
   "source": [
    "from stable_baselines3.common.evaluation import evaluate_policy"
   ]
  },
  {
   "cell_type": "code",
   "execution_count": 28,
   "metadata": {
    "colab": {},
    "colab_type": "code",
    "id": "4oPTHjxyZSOL"
   },
   "outputs": [
    {
     "name": "stdout",
     "output_type": "stream",
     "text": [
      "mean_reward: 9.47 +/- 0.68\n"
     ]
    }
   ],
   "source": [
    "mean_reward, std_reward = evaluate_policy(model, env, n_eval_episodes=100, warn=False)\n",
    "\n",
    "print(f\"mean_reward: {mean_reward:.2f} +/- {std_reward:.2f}\")"
   ]
  },
  {
   "attachments": {},
   "cell_type": "markdown",
   "metadata": {
    "colab_type": "text",
    "id": "r5UoXTZPNdFE"
   },
   "source": [
    "## Train the agent and evaluate it"
   ]
  },
  {
   "cell_type": "code",
   "execution_count": 29,
   "metadata": {
    "colab": {},
    "colab_type": "code",
    "id": "e4cfSXIB-pTF"
   },
   "outputs": [
    {
     "data": {
      "text/plain": [
       "<stable_baselines3.ppo.ppo.PPO at 0x78b2f2f51000>"
      ]
     },
     "execution_count": 29,
     "metadata": {},
     "output_type": "execute_result"
    }
   ],
   "source": [
    "# Train the agent for 10000 steps\n",
    "model.learn(total_timesteps=10_000)"
   ]
  },
  {
   "cell_type": "code",
   "execution_count": null,
   "metadata": {
    "colab": {},
    "colab_type": "code",
    "id": "ygl_gVmV_QP7"
   },
   "outputs": [
    {
     "name": "stderr",
     "output_type": "stream",
     "text": [
      "/home/ivon/code/stable-baseline3/.venv/lib/python3.10/site-packages/stable_baselines3/common/evaluation.py:67: UserWarning: Evaluation environment is not wrapped with a ``Monitor`` wrapper. This may result in reporting modified episode lengths and rewards, if other wrappers happen to modify these. Consider wrapping environment first with ``Monitor`` wrapper.\n",
      "  warnings.warn(\n"
     ]
    },
    {
     "name": "stdout",
     "output_type": "stream",
     "text": [
      "mean_reward:446.81 +/- 69.49\n"
     ]
    }
   ],
   "source": [
    "# Evaluate the trained agent\n",
    "mean_reward, std_reward = evaluate_policy(model, env, n_eval_episodes=100)\n",
    "\n",
    "print(f\"mean_reward: {mean_reward:.2f} +/- {std_reward:.2f}\")"
   ]
  },
  {
   "attachments": {},
   "cell_type": "markdown",
   "metadata": {
    "colab_type": "text",
    "id": "A00W6yY3NkHG"
   },
   "source": [
    "Apparently the training went well, the mean reward increased a lot ! "
   ]
  },
  {
   "attachments": {},
   "cell_type": "markdown",
   "metadata": {
    "colab_type": "text",
    "id": "xVm9QPNVwKXN"
   },
   "source": [
    "### Prepare video recording"
   ]
  },
  {
   "cell_type": "code",
   "execution_count": 31,
   "metadata": {
    "colab": {},
    "colab_type": "code",
    "id": "MPyfQxD5z26J"
   },
   "outputs": [
    {
     "name": "stderr",
     "output_type": "stream",
     "text": [
      "sh: 1: Xvfb: not found\n"
     ]
    }
   ],
   "source": [
    "# Set up fake display; otherwise rendering will fail\n",
    "import os\n",
    "os.system(\"Xvfb :1 -screen 0 1024x768x24 &\")\n",
    "os.environ['DISPLAY'] = ':1'"
   ]
  },
  {
   "cell_type": "code",
   "execution_count": 32,
   "metadata": {
    "colab": {},
    "colab_type": "code",
    "id": "SLzXxO8VMD6N"
   },
   "outputs": [],
   "source": [
    "import base64\n",
    "from pathlib import Path\n",
    "\n",
    "from IPython import display as ipythondisplay\n",
    "\n",
    "\n",
    "def show_videos(video_path=\"\", prefix=\"\"):\n",
    "    \"\"\"\n",
    "    Taken from https://github.com/eleurent/highway-env\n",
    "\n",
    "    :param video_path: (str) Path to the folder containing videos\n",
    "    :param prefix: (str) Filter the video, showing only the only starting with this prefix\n",
    "    \"\"\"\n",
    "    html = []\n",
    "    for mp4 in Path(video_path).glob(\"{}*.mp4\".format(prefix)):\n",
    "        video_b64 = base64.b64encode(mp4.read_bytes())\n",
    "        html.append(\n",
    "            \"\"\"<video alt=\"{}\" autoplay \n",
    "                    loop controls style=\"height: 400px;\">\n",
    "                    <source src=\"data:video/mp4;base64,{}\" type=\"video/mp4\" />\n",
    "                </video>\"\"\".format(\n",
    "                mp4, video_b64.decode(\"ascii\")\n",
    "            )\n",
    "        )\n",
    "    ipythondisplay.display(ipythondisplay.HTML(data=\"<br>\".join(html)))"
   ]
  },
  {
   "attachments": {},
   "cell_type": "markdown",
   "metadata": {
    "colab_type": "text",
    "id": "LTRNUfulOGaF"
   },
   "source": [
    "We will record a video using the [VecVideoRecorder](https://stable-baselines3.readthedocs.io/en/master/guide/vec_envs.html#vecvideorecorder) wrapper, you will learn about those wrapper in the next notebook."
   ]
  },
  {
   "cell_type": "code",
   "execution_count": 33,
   "metadata": {
    "colab": {},
    "colab_type": "code",
    "id": "Trag9dQpOIhx"
   },
   "outputs": [],
   "source": [
    "from stable_baselines3.common.vec_env import VecVideoRecorder, DummyVecEnv\n",
    "\n",
    "\n",
    "def record_video(env_id, model, video_length=500, prefix=\"\", video_folder=\"videos/\"):\n",
    "    \"\"\"\n",
    "    :param env_id: (str)\n",
    "    :param model: (RL model)\n",
    "    :param video_length: (int)\n",
    "    :param prefix: (str)\n",
    "    :param video_folder: (str)\n",
    "    \"\"\"\n",
    "    eval_env = DummyVecEnv([lambda: gym.make(env_id, render_mode=\"rgb_array\")])\n",
    "    # Start the video at step=0 and record 500 steps\n",
    "    eval_env = VecVideoRecorder(\n",
    "        eval_env,\n",
    "        video_folder=video_folder,\n",
    "        record_video_trigger=lambda step: step == 0,\n",
    "        video_length=video_length,\n",
    "        name_prefix=prefix,\n",
    "    )\n",
    "\n",
    "    obs = eval_env.reset()\n",
    "    for _ in range(video_length):\n",
    "        action, _ = model.predict(obs)\n",
    "        obs, _, _, _ = eval_env.step(action)\n",
    "\n",
    "    # Close the video recorder\n",
    "    eval_env.close()"
   ]
  },
  {
   "attachments": {},
   "cell_type": "markdown",
   "metadata": {
    "colab_type": "text",
    "id": "KOObbeu5MMlR"
   },
   "source": [
    "### Visualize trained agent\n",
    "\n"
   ]
  },
  {
   "cell_type": "code",
   "execution_count": 34,
   "metadata": {
    "colab": {
     "base_uri": "https://localhost:8080/",
     "height": 35
    },
    "colab_type": "code",
    "id": "iATu7AiyMQW2",
    "outputId": "68acb027-6c94-4389-8456-2cfb11494814"
   },
   "outputs": [
    {
     "name": "stdout",
     "output_type": "stream",
     "text": [
      "Saving video to /home/ivon/code/stable-baseline3/videos/ppo-cartpole-step-0-to-step-500.mp4\n",
      "MoviePy - Building video /home/ivon/code/stable-baseline3/videos/ppo-cartpole-step-0-to-step-500.mp4.\n",
      "MoviePy - Writing video /home/ivon/code/stable-baseline3/videos/ppo-cartpole-step-0-to-step-500.mp4\n",
      "\n"
     ]
    },
    {
     "name": "stderr",
     "output_type": "stream",
     "text": [
      "                                                                         \r"
     ]
    },
    {
     "name": "stdout",
     "output_type": "stream",
     "text": [
      "MoviePy - Done !\n",
      "MoviePy - video ready /home/ivon/code/stable-baseline3/videos/ppo-cartpole-step-0-to-step-500.mp4\n"
     ]
    }
   ],
   "source": [
    "record_video(\"CartPole-v1\", model, video_length=500, prefix=\"ppo-cartpole\")"
   ]
  },
  {
   "cell_type": "code",
   "execution_count": 35,
   "metadata": {
    "colab": {},
    "colab_type": "code",
    "id": "-n4i-fW3NojZ"
   },
   "outputs": [
    {
     "data": {
      "text/html": [
       "<video alt=\"videos/ppo-cartpole-step-0-to-step-500.mp4\" autoplay \n",
       "                    loop controls style=\"height: 400px;\">\n",
       "                    <source src=\"data:video/mp4;base64,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\" type=\"video/mp4\" />\n",
       "                </video>"
      ],
      "text/plain": [
       "<IPython.core.display.HTML object>"
      ]
     },
     "metadata": {},
     "output_type": "display_data"
    }
   ],
   "source": [
    "show_videos(\"videos\", prefix=\"ppo\")"
   ]
  },
  {
   "attachments": {},
   "cell_type": "markdown",
   "metadata": {
    "colab_type": "text",
    "id": "9Y8zg4V566qD"
   },
   "source": [
    "## Bonus: Train a RL Model in One Line\n",
    "\n",
    "The policy class to use will be inferred and the environment will be automatically created. This works because both are [registered](https://stable-baselines3.readthedocs.io/en/master/guide/quickstart.html)."
   ]
  },
  {
   "cell_type": "code",
   "execution_count": 36,
   "metadata": {
    "colab": {},
    "colab_type": "code",
    "id": "iaOPfOrwWEP4"
   },
   "outputs": [
    {
     "name": "stdout",
     "output_type": "stream",
     "text": [
      "Using cpu device\n",
      "Creating environment from the given name 'CartPole-v1'\n",
      "Wrapping the env with a `Monitor` wrapper\n",
      "Wrapping the env in a DummyVecEnv.\n",
      "---------------------------------\n",
      "| rollout/           |          |\n",
      "|    ep_len_mean     | 22.4     |\n",
      "|    ep_rew_mean     | 22.4     |\n",
      "| time/              |          |\n",
      "|    fps             | 1272     |\n",
      "|    iterations      | 1        |\n",
      "|    time_elapsed    | 1        |\n",
      "|    total_timesteps | 2048     |\n",
      "---------------------------------\n"
     ]
    }
   ],
   "source": [
    "model = PPO('MlpPolicy', \"CartPole-v1\", verbose=1).learn(1000)"
   ]
  },
  {
   "attachments": {},
   "cell_type": "markdown",
   "metadata": {
    "colab_type": "text",
    "id": "FrI6f5fWnzp-"
   },
   "source": [
    "## Conclusion\n",
    "\n",
    "In this notebook we have seen:\n",
    "- how to define and train a RL model using stable baselines3, it takes only one line of code ;)"
   ]
  }
 ],
 "metadata": {
  "accelerator": "GPU",
  "colab": {
   "collapsed_sections": [],
   "include_colab_link": true,
   "name": "1_getting_started.ipynb",
   "provenance": []
  },
  "kernelspec": {
   "display_name": ".venv",
   "language": "python",
   "name": "python3"
  },
  "language_info": {
   "codemirror_mode": {
    "name": "ipython",
    "version": 3
   },
   "file_extension": ".py",
   "mimetype": "text/x-python",
   "name": "python",
   "nbconvert_exporter": "python",
   "pygments_lexer": "ipython3",
   "version": "3.10.12"
  }
 },
 "nbformat": 4,
 "nbformat_minor": 4
}
