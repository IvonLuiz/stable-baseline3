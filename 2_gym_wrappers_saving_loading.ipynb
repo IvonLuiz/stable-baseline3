{
 "cells": [
  {
   "cell_type": "markdown",
   "metadata": {
    "colab_type": "text",
    "id": "view-in-github"
   },
   "source": [
    "<a href=\"https://colab.research.google.com/github/araffin/rl-tutorial-jnrr19/blob/sb3/2_gym_wrappers_saving_loading.ipynb\" target=\"_parent\"><img src=\"https://colab.research.google.com/assets/colab-badge.svg\" alt=\"Open In Colab\"/></a>"
   ]
  },
  {
   "cell_type": "markdown",
   "metadata": {
    "colab_type": "text",
    "id": "3ezJ3Y7XRUnj"
   },
   "source": [
    "# Stable Baselines3 Tutorial - Gym wrappers, saving and loading models\n",
    "\n",
    "Github repo: https://github.com/araffin/rl-tutorial-jnrr19/tree/sb3/\n",
    "\n",
    "Stable-Baselines3: https://github.com/DLR-RM/stable-baselines3\n",
    "\n",
    "Documentation: https://stable-baselines3.readthedocs.io/en/master/\n",
    "\n",
    "SB3-Contrib: https://github.com/Stable-Baselines-Team/stable-baselines3-contrib\n",
    "\n",
    "RL Baselines3 zoo: https://github.com/DLR-RM/rl-baselines3-zoo\n",
    "\n",
    "\n",
    "## Introduction\n",
    "\n",
    "In this notebook, you will learn how to use *Gym Wrappers* which allow to do monitoring, normalization, limit the number of steps, feature augmentation, ...\n",
    "\n",
    "\n",
    "You will also see the *loading* and *saving* functions, and how to read the outputted files for possible exporting.\n",
    "\n",
    "## Install Dependencies and Stable Baselines3 Using Pip"
   ]
  },
  {
   "cell_type": "code",
   "execution_count": 1,
   "metadata": {},
   "outputs": [],
   "source": [
    "# for autoformatting\n",
    "# %load_ext jupyter_black"
   ]
  },
  {
   "cell_type": "code",
   "execution_count": 2,
   "metadata": {
    "colab": {},
    "colab_type": "code",
    "id": "YFdlFByORUnl"
   },
   "outputs": [
    {
     "name": "stdout",
     "output_type": "stream",
     "text": [
      "Requirement already satisfied: swig in ./.venv/lib/python3.10/site-packages (4.3.0)\n",
      "Requirement already satisfied: stable-baselines3[extra]>=2.0.0a4 in ./.venv/lib/python3.10/site-packages (2.4.1)\n",
      "Requirement already satisfied: numpy<2.0,>=1.20 in ./.venv/lib/python3.10/site-packages (from stable-baselines3[extra]>=2.0.0a4) (1.26.4)\n",
      "Requirement already satisfied: gymnasium<1.1.0,>=0.29.1 in ./.venv/lib/python3.10/site-packages (from stable-baselines3[extra]>=2.0.0a4) (1.0.0)\n",
      "Requirement already satisfied: cloudpickle in ./.venv/lib/python3.10/site-packages (from stable-baselines3[extra]>=2.0.0a4) (3.1.1)\n",
      "Requirement already satisfied: matplotlib in ./.venv/lib/python3.10/site-packages (from stable-baselines3[extra]>=2.0.0a4) (3.10.0)\n",
      "Requirement already satisfied: pandas in ./.venv/lib/python3.10/site-packages (from stable-baselines3[extra]>=2.0.0a4) (2.2.3)\n",
      "Requirement already satisfied: torch>=1.13 in ./.venv/lib/python3.10/site-packages (from stable-baselines3[extra]>=2.0.0a4) (2.5.1)\n",
      "Requirement already satisfied: pygame in ./.venv/lib/python3.10/site-packages (from stable-baselines3[extra]>=2.0.0a4) (2.6.1)\n",
      "Requirement already satisfied: pillow in ./.venv/lib/python3.10/site-packages (from stable-baselines3[extra]>=2.0.0a4) (10.4.0)\n",
      "Requirement already satisfied: tensorboard>=2.9.1 in ./.venv/lib/python3.10/site-packages (from stable-baselines3[extra]>=2.0.0a4) (2.18.0)\n",
      "Requirement already satisfied: ale-py>=0.9.0 in ./.venv/lib/python3.10/site-packages (from stable-baselines3[extra]>=2.0.0a4) (0.10.1)\n",
      "Requirement already satisfied: rich in ./.venv/lib/python3.10/site-packages (from stable-baselines3[extra]>=2.0.0a4) (13.9.4)\n",
      "Requirement already satisfied: opencv-python in ./.venv/lib/python3.10/site-packages (from stable-baselines3[extra]>=2.0.0a4) (4.10.0.84)\n",
      "Requirement already satisfied: tqdm in ./.venv/lib/python3.10/site-packages (from stable-baselines3[extra]>=2.0.0a4) (4.67.1)\n",
      "Requirement already satisfied: psutil in ./.venv/lib/python3.10/site-packages (from stable-baselines3[extra]>=2.0.0a4) (6.1.1)\n",
      "Requirement already satisfied: typing-extensions in ./.venv/lib/python3.10/site-packages (from ale-py>=0.9.0->stable-baselines3[extra]>=2.0.0a4) (4.12.2)\n",
      "Requirement already satisfied: farama-notifications>=0.0.1 in ./.venv/lib/python3.10/site-packages (from gymnasium<1.1.0,>=0.29.1->stable-baselines3[extra]>=2.0.0a4) (0.0.4)\n",
      "Requirement already satisfied: tensorboard-data-server<0.8.0,>=0.7.0 in ./.venv/lib/python3.10/site-packages (from tensorboard>=2.9.1->stable-baselines3[extra]>=2.0.0a4) (0.7.2)\n",
      "Requirement already satisfied: markdown>=2.6.8 in ./.venv/lib/python3.10/site-packages (from tensorboard>=2.9.1->stable-baselines3[extra]>=2.0.0a4) (3.7)\n",
      "Requirement already satisfied: protobuf!=4.24.0,>=3.19.6 in ./.venv/lib/python3.10/site-packages (from tensorboard>=2.9.1->stable-baselines3[extra]>=2.0.0a4) (5.29.3)\n",
      "Requirement already satisfied: six>1.9 in ./.venv/lib/python3.10/site-packages (from tensorboard>=2.9.1->stable-baselines3[extra]>=2.0.0a4) (1.17.0)\n",
      "Requirement already satisfied: werkzeug>=1.0.1 in ./.venv/lib/python3.10/site-packages (from tensorboard>=2.9.1->stable-baselines3[extra]>=2.0.0a4) (3.1.3)\n",
      "Requirement already satisfied: grpcio>=1.48.2 in ./.venv/lib/python3.10/site-packages (from tensorboard>=2.9.1->stable-baselines3[extra]>=2.0.0a4) (1.69.0)\n",
      "Requirement already satisfied: packaging in ./.venv/lib/python3.10/site-packages (from tensorboard>=2.9.1->stable-baselines3[extra]>=2.0.0a4) (24.2)\n",
      "Requirement already satisfied: setuptools>=41.0.0 in ./.venv/lib/python3.10/site-packages (from tensorboard>=2.9.1->stable-baselines3[extra]>=2.0.0a4) (59.6.0)\n",
      "Requirement already satisfied: absl-py>=0.4 in ./.venv/lib/python3.10/site-packages (from tensorboard>=2.9.1->stable-baselines3[extra]>=2.0.0a4) (2.1.0)\n",
      "Requirement already satisfied: nvidia-cusolver-cu12==11.6.1.9 in ./.venv/lib/python3.10/site-packages (from torch>=1.13->stable-baselines3[extra]>=2.0.0a4) (11.6.1.9)\n",
      "Requirement already satisfied: nvidia-nvjitlink-cu12==12.4.127 in ./.venv/lib/python3.10/site-packages (from torch>=1.13->stable-baselines3[extra]>=2.0.0a4) (12.4.127)\n",
      "Requirement already satisfied: nvidia-nccl-cu12==2.21.5 in ./.venv/lib/python3.10/site-packages (from torch>=1.13->stable-baselines3[extra]>=2.0.0a4) (2.21.5)\n",
      "Requirement already satisfied: triton==3.1.0 in ./.venv/lib/python3.10/site-packages (from torch>=1.13->stable-baselines3[extra]>=2.0.0a4) (3.1.0)\n",
      "Requirement already satisfied: nvidia-cuda-runtime-cu12==12.4.127 in ./.venv/lib/python3.10/site-packages (from torch>=1.13->stable-baselines3[extra]>=2.0.0a4) (12.4.127)\n",
      "Requirement already satisfied: filelock in ./.venv/lib/python3.10/site-packages (from torch>=1.13->stable-baselines3[extra]>=2.0.0a4) (3.16.1)\n",
      "Requirement already satisfied: nvidia-cudnn-cu12==9.1.0.70 in ./.venv/lib/python3.10/site-packages (from torch>=1.13->stable-baselines3[extra]>=2.0.0a4) (9.1.0.70)\n",
      "Requirement already satisfied: nvidia-cufft-cu12==11.2.1.3 in ./.venv/lib/python3.10/site-packages (from torch>=1.13->stable-baselines3[extra]>=2.0.0a4) (11.2.1.3)\n",
      "Requirement already satisfied: jinja2 in ./.venv/lib/python3.10/site-packages (from torch>=1.13->stable-baselines3[extra]>=2.0.0a4) (3.1.5)\n",
      "Requirement already satisfied: nvidia-nvtx-cu12==12.4.127 in ./.venv/lib/python3.10/site-packages (from torch>=1.13->stable-baselines3[extra]>=2.0.0a4) (12.4.127)\n",
      "Requirement already satisfied: fsspec in ./.venv/lib/python3.10/site-packages (from torch>=1.13->stable-baselines3[extra]>=2.0.0a4) (2024.12.0)\n",
      "Requirement already satisfied: nvidia-cuda-cupti-cu12==12.4.127 in ./.venv/lib/python3.10/site-packages (from torch>=1.13->stable-baselines3[extra]>=2.0.0a4) (12.4.127)\n",
      "Requirement already satisfied: nvidia-cusparse-cu12==12.3.1.170 in ./.venv/lib/python3.10/site-packages (from torch>=1.13->stable-baselines3[extra]>=2.0.0a4) (12.3.1.170)\n",
      "Requirement already satisfied: sympy==1.13.1 in ./.venv/lib/python3.10/site-packages (from torch>=1.13->stable-baselines3[extra]>=2.0.0a4) (1.13.1)\n",
      "Requirement already satisfied: nvidia-cublas-cu12==12.4.5.8 in ./.venv/lib/python3.10/site-packages (from torch>=1.13->stable-baselines3[extra]>=2.0.0a4) (12.4.5.8)\n",
      "Requirement already satisfied: nvidia-cuda-nvrtc-cu12==12.4.127 in ./.venv/lib/python3.10/site-packages (from torch>=1.13->stable-baselines3[extra]>=2.0.0a4) (12.4.127)\n",
      "Requirement already satisfied: nvidia-curand-cu12==10.3.5.147 in ./.venv/lib/python3.10/site-packages (from torch>=1.13->stable-baselines3[extra]>=2.0.0a4) (10.3.5.147)\n",
      "Requirement already satisfied: networkx in ./.venv/lib/python3.10/site-packages (from torch>=1.13->stable-baselines3[extra]>=2.0.0a4) (3.4.2)\n",
      "Requirement already satisfied: mpmath<1.4,>=1.1.0 in ./.venv/lib/python3.10/site-packages (from sympy==1.13.1->torch>=1.13->stable-baselines3[extra]>=2.0.0a4) (1.3.0)\n",
      "Requirement already satisfied: pyparsing>=2.3.1 in ./.venv/lib/python3.10/site-packages (from matplotlib->stable-baselines3[extra]>=2.0.0a4) (3.2.1)\n",
      "Requirement already satisfied: contourpy>=1.0.1 in ./.venv/lib/python3.10/site-packages (from matplotlib->stable-baselines3[extra]>=2.0.0a4) (1.3.1)\n",
      "Requirement already satisfied: kiwisolver>=1.3.1 in ./.venv/lib/python3.10/site-packages (from matplotlib->stable-baselines3[extra]>=2.0.0a4) (1.4.8)\n",
      "Requirement already satisfied: fonttools>=4.22.0 in ./.venv/lib/python3.10/site-packages (from matplotlib->stable-baselines3[extra]>=2.0.0a4) (4.55.3)\n",
      "Requirement already satisfied: python-dateutil>=2.7 in ./.venv/lib/python3.10/site-packages (from matplotlib->stable-baselines3[extra]>=2.0.0a4) (2.9.0.post0)\n",
      "Requirement already satisfied: cycler>=0.10 in ./.venv/lib/python3.10/site-packages (from matplotlib->stable-baselines3[extra]>=2.0.0a4) (0.12.1)\n",
      "Requirement already satisfied: pytz>=2020.1 in ./.venv/lib/python3.10/site-packages (from pandas->stable-baselines3[extra]>=2.0.0a4) (2024.2)\n",
      "Requirement already satisfied: tzdata>=2022.7 in ./.venv/lib/python3.10/site-packages (from pandas->stable-baselines3[extra]>=2.0.0a4) (2024.2)\n",
      "Requirement already satisfied: markdown-it-py>=2.2.0 in ./.venv/lib/python3.10/site-packages (from rich->stable-baselines3[extra]>=2.0.0a4) (3.0.0)\n",
      "Requirement already satisfied: pygments<3.0.0,>=2.13.0 in ./.venv/lib/python3.10/site-packages (from rich->stable-baselines3[extra]>=2.0.0a4) (2.19.1)\n",
      "Requirement already satisfied: mdurl~=0.1 in ./.venv/lib/python3.10/site-packages (from markdown-it-py>=2.2.0->rich->stable-baselines3[extra]>=2.0.0a4) (0.1.2)\n",
      "Requirement already satisfied: MarkupSafe>=2.1.1 in ./.venv/lib/python3.10/site-packages (from werkzeug>=1.0.1->tensorboard>=2.9.1->stable-baselines3[extra]>=2.0.0a4) (3.0.2)\n"
     ]
    }
   ],
   "source": [
    "!pip install swig\n",
    "!pip install \"stable-baselines3[extra]>=2.0.0a4\""
   ]
  },
  {
   "cell_type": "code",
   "execution_count": 3,
   "metadata": {
    "colab": {},
    "colab_type": "code",
    "id": "grXe85G9RUnp"
   },
   "outputs": [],
   "source": [
    "import gymnasium as gym\n",
    "from stable_baselines3 import A2C, SAC, PPO, TD3"
   ]
  },
  {
   "cell_type": "markdown",
   "metadata": {
    "colab_type": "text",
    "id": "hMPAn1SRd32f"
   },
   "source": [
    "# Saving and loading\n",
    "\n",
    "Saving and loading stable-baselines models is straightforward: you can directly call `.save()` and `.load()` on the models."
   ]
  },
  {
   "cell_type": "code",
   "execution_count": 4,
   "metadata": {
    "colab": {},
    "colab_type": "code",
    "id": "vBNFnN4Gd32g"
   },
   "outputs": [
    {
     "name": "stdout",
     "output_type": "stream",
     "text": [
      "pre saved (array([0.01287538], dtype=float32), None)\n",
      "loaded (array([0.01287538], dtype=float32), None)\n"
     ]
    }
   ],
   "source": [
    "import os\n",
    "\n",
    "# Create save dir\n",
    "save_dir = \"/tmp/gym/\"\n",
    "os.makedirs(save_dir, exist_ok=True)\n",
    "\n",
    "model = PPO(\"MlpPolicy\", \"Pendulum-v1\", verbose=0).learn(8_000)\n",
    "# The model will be saved under PPO_tutorial.zip\n",
    "model.save(f\"{save_dir}/PPO_tutorial\")\n",
    "\n",
    "# sample an observation from the environment\n",
    "obs = model.env.observation_space.sample()\n",
    "\n",
    "# Check prediction before saving\n",
    "print(\"pre saved\", model.predict(obs, deterministic=True))\n",
    "\n",
    "del model  # delete trained model to demonstrate loading\n",
    "\n",
    "loaded_model = PPO.load(f\"{save_dir}/PPO_tutorial\")\n",
    "# Check that the prediction is the same after loading (for the same observation)\n",
    "print(\"loaded\", loaded_model.predict(obs, deterministic=True))"
   ]
  },
  {
   "cell_type": "markdown",
   "metadata": {
    "colab_type": "text",
    "id": "gXWPrVqId32o"
   },
   "source": [
    "Saving in stable-baselines is quite powerful, as you save the training hyperparameters, with the current weights. This means in practice, you can simply load a custom model, without redefining the parameters, and continue learning.\n",
    "\n",
    "The loading function can also update the model's class variables when loading."
   ]
  },
  {
   "cell_type": "code",
   "execution_count": 5,
   "metadata": {
    "colab": {},
    "colab_type": "code",
    "id": "LCtxrAbXd32q"
   },
   "outputs": [
    {
     "name": "stdout",
     "output_type": "stream",
     "text": [
      "loaded: gamma=0.9, n_steps=20\n",
      "------------------------------------\n",
      "| time/                 |          |\n",
      "|    fps                | 1740     |\n",
      "|    iterations         | 100      |\n",
      "|    time_elapsed       | 1        |\n",
      "|    total_timesteps    | 2000     |\n",
      "| train/                |          |\n",
      "|    entropy_loss       | -1.44    |\n",
      "|    explained_variance | 6.12e-05 |\n",
      "|    learning_rate      | 0.0007   |\n",
      "|    n_updates          | 499      |\n",
      "|    policy_loss        | -45      |\n",
      "|    std                | 1.02     |\n",
      "|    value_loss         | 1.4e+03  |\n",
      "------------------------------------\n",
      "-------------------------------------\n",
      "| time/                 |           |\n",
      "|    fps                | 1703      |\n",
      "|    iterations         | 200       |\n",
      "|    time_elapsed       | 2         |\n",
      "|    total_timesteps    | 4000      |\n",
      "| train/                |           |\n",
      "|    entropy_loss       | -1.45     |\n",
      "|    explained_variance | -1.65e-05 |\n",
      "|    learning_rate      | 0.0007    |\n",
      "|    n_updates          | 599       |\n",
      "|    policy_loss        | -48.8     |\n",
      "|    std                | 1.03      |\n",
      "|    value_loss         | 916       |\n",
      "-------------------------------------\n",
      "------------------------------------\n",
      "| time/                 |          |\n",
      "|    fps                | 1739     |\n",
      "|    iterations         | 300      |\n",
      "|    time_elapsed       | 3        |\n",
      "|    total_timesteps    | 6000     |\n",
      "| train/                |          |\n",
      "|    entropy_loss       | -1.46    |\n",
      "|    explained_variance | 0.031    |\n",
      "|    learning_rate      | 0.0007   |\n",
      "|    n_updates          | 699      |\n",
      "|    policy_loss        | -22.6    |\n",
      "|    std                | 1.04     |\n",
      "|    value_loss         | 355      |\n",
      "------------------------------------\n",
      "------------------------------------\n",
      "| time/                 |          |\n",
      "|    fps                | 1756     |\n",
      "|    iterations         | 400      |\n",
      "|    time_elapsed       | 4        |\n",
      "|    total_timesteps    | 8000     |\n",
      "| train/                |          |\n",
      "|    entropy_loss       | -1.47    |\n",
      "|    explained_variance | 0.000498 |\n",
      "|    learning_rate      | 0.0007   |\n",
      "|    n_updates          | 799      |\n",
      "|    policy_loss        | -19      |\n",
      "|    std                | 1.05     |\n",
      "|    value_loss         | 304      |\n",
      "------------------------------------\n"
     ]
    },
    {
     "data": {
      "text/plain": [
       "<stable_baselines3.a2c.a2c.A2C at 0x7a9a8fc27730>"
      ]
     },
     "execution_count": 5,
     "metadata": {},
     "output_type": "execute_result"
    }
   ],
   "source": [
    "import os\n",
    "from stable_baselines3.common.vec_env import DummyVecEnv\n",
    "\n",
    "# Create save dir\n",
    "save_dir = \"/tmp/gym/\"\n",
    "os.makedirs(save_dir, exist_ok=True)\n",
    "\n",
    "model = A2C(\"MlpPolicy\", \"Pendulum-v1\", verbose=0, gamma=0.9, n_steps=20).learn(8000)\n",
    "# The model will be saved under A2C_tutorial.zip\n",
    "model.save(f\"{save_dir}/A2C_tutorial\")\n",
    "\n",
    "del model  # delete trained model to demonstrate loading\n",
    "\n",
    "# load the model, and when loading set verbose to 1\n",
    "loaded_model = A2C.load(f\"{save_dir}/A2C_tutorial\", verbose=1)\n",
    "\n",
    "# show the save hyperparameters\n",
    "print(f\"loaded: gamma={loaded_model.gamma}, n_steps={loaded_model.n_steps}\")\n",
    "\n",
    "# as the environment is not serializable, we need to set a new instance of the environment\n",
    "loaded_model.set_env(DummyVecEnv([lambda: gym.make(\"Pendulum-v1\")]))\n",
    "# and continue training\n",
    "loaded_model.learn(8_000)"
   ]
  },
  {
   "cell_type": "markdown",
   "metadata": {
    "colab_type": "text",
    "id": "hKwupU-Jgxjm"
   },
   "source": [
    "# Gym and VecEnv wrappers"
   ]
  },
  {
   "cell_type": "markdown",
   "metadata": {
    "colab_type": "text",
    "id": "ds4AAfmISQIA"
   },
   "source": [
    "## Anatomy of a gym wrapper"
   ]
  },
  {
   "attachments": {},
   "cell_type": "markdown",
   "metadata": {
    "colab_type": "text",
    "id": "gnTS9e9hTzZZ"
   },
   "source": [
    "A gym wrapper follows the [gym](https://stable-baselines.readthedocs.io/en/master/guide/custom_env.html) interface: it has a `reset()` and `step()` method.\n",
    "\n",
    "Because a wrapper is *around* an environment, we can access it with `self.env`, this allow to easily interact with it without modifying the original env.\n",
    "There are many wrappers that have been predefined, for a complete list refer to [gym documentation](https://gymnasium.farama.org/api/wrappers/)"
   ]
  },
  {
   "cell_type": "code",
   "execution_count": 6,
   "metadata": {
    "colab": {},
    "colab_type": "code",
    "id": "hYo0C0TQSL3c"
   },
   "outputs": [],
   "source": [
    "class CustomWrapper(gym.Wrapper):\n",
    "    \"\"\"\n",
    "    :param env: (gym.Env) Gym environment that will be wrapped\n",
    "    \"\"\"\n",
    "\n",
    "    def __init__(self, env):\n",
    "        # Call the parent constructor, so we can access self.env later\n",
    "        super().__init__(env)\n",
    "\n",
    "    def reset(self, **kwargs):\n",
    "        \"\"\"\n",
    "        Reset the environment\n",
    "        \"\"\"\n",
    "        obs, info = self.env.reset(**kwargs)\n",
    "\n",
    "        return obs, info\n",
    "\n",
    "    def step(self, action):\n",
    "        \"\"\"\n",
    "        :param action: ([float] or int) Action taken by the agent\n",
    "        :return: (np.ndarray, float, bool, bool, dict) observation, reward, is this a final state (episode finished),\n",
    "        is the max number of steps reached (episode finished artificially), additional informations\n",
    "        \"\"\"\n",
    "        obs, reward, terminated, truncated, info = self.env.step(action)\n",
    "        return obs, reward, terminated, truncated, info"
   ]
  },
  {
   "cell_type": "markdown",
   "metadata": {
    "colab_type": "text",
    "id": "4zeGuyICUN26"
   },
   "source": [
    "## First example: limit the episode length\n",
    "\n",
    "One practical use case of a wrapper is when you want to limit the number of steps by episode, for that you will need to overwrite the `done` signal when the limit is reached. It is also a good practice to pass that information in the `info` dictionary."
   ]
  },
  {
   "cell_type": "code",
   "execution_count": 7,
   "metadata": {
    "colab": {},
    "colab_type": "code",
    "id": "Eb2U4_K6SNUx"
   },
   "outputs": [],
   "source": [
    "class TimeLimitWrapper(gym.Wrapper):\n",
    "    \"\"\"\n",
    "    :param env: (gym.Env) Gym environment that will be wrapped\n",
    "    :param max_steps: (int) Max number of steps per episode\n",
    "    \"\"\"\n",
    "\n",
    "    def __init__(self, env, max_steps=100):\n",
    "        # Call the parent constructor, so we can access self.env later\n",
    "        super(TimeLimitWrapper, self).__init__(env)\n",
    "        self.max_steps = max_steps\n",
    "        # Counter of steps per episode\n",
    "        self.current_step = 0\n",
    "\n",
    "    def reset(self, **kwargs):\n",
    "        \"\"\"\n",
    "        Reset the environment\n",
    "        \"\"\"\n",
    "        # Reset the counter\n",
    "        self.current_step = 0\n",
    "        return self.env.reset(**kwargs)\n",
    "\n",
    "    def step(self, action):\n",
    "        \"\"\"\n",
    "        :param action: ([float] or int) Action taken by the agent\n",
    "        :return: (np.ndarray, float, bool, bool, dict) observation, reward, is the episode over?, additional informations\n",
    "        \"\"\"\n",
    "        self.current_step += 1\n",
    "        obs, reward, terminated, truncated, info = self.env.step(action)\n",
    "        # Overwrite the truncation signal when when the number of steps reaches the maximum\n",
    "        if self.current_step >= self.max_steps:\n",
    "            truncated = True\n",
    "        return obs, reward, terminated, truncated, info"
   ]
  },
  {
   "cell_type": "markdown",
   "metadata": {
    "colab_type": "text",
    "id": "oZufaUJwVM9w"
   },
   "source": [
    "#### Test the wrapper"
   ]
  },
  {
   "cell_type": "code",
   "execution_count": 8,
   "metadata": {
    "colab": {},
    "colab_type": "code",
    "id": "szZ43D5PVB07"
   },
   "outputs": [],
   "source": [
    "from gymnasium.envs.classic_control.pendulum import PendulumEnv\n",
    "\n",
    "# Here we create the environment directly because gym.make() already wrap the environment in a TimeLimit wrapper otherwise\n",
    "env = PendulumEnv()\n",
    "# Wrap the environment\n",
    "env = TimeLimitWrapper(env, max_steps=100)"
   ]
  },
  {
   "cell_type": "code",
   "execution_count": 9,
   "metadata": {
    "colab": {},
    "colab_type": "code",
    "id": "cencka9iVg9V"
   },
   "outputs": [
    {
     "name": "stdout",
     "output_type": "stream",
     "text": [
      "100 {}\n"
     ]
    }
   ],
   "source": [
    "obs, _ = env.reset()\n",
    "done = False\n",
    "n_steps = 0\n",
    "while not done:\n",
    "    # Take random actions\n",
    "    random_action = env.action_space.sample()\n",
    "    obs, reward, terminated, truncated, info = env.step(random_action)\n",
    "    done = terminated or truncated\n",
    "    n_steps += 1\n",
    "\n",
    "print(n_steps, info)"
   ]
  },
  {
   "attachments": {},
   "cell_type": "markdown",
   "metadata": {
    "colab_type": "text",
    "id": "jkMYA63sV9aA"
   },
   "source": [
    "In practice, `gym` already have a wrapper for that named `TimeLimit` (`gym.wrappers.TimeLimit`) that is used by most environments."
   ]
  }
 ],
 "metadata": {
  "colab": {
   "collapsed_sections": [],
   "include_colab_link": true,
   "name": "2_gym_wrappers_saving_loading.ipynb",
   "provenance": []
  },
  "kernelspec": {
   "display_name": ".venv",
   "language": "python",
   "name": "python3"
  },
  "language_info": {
   "codemirror_mode": {
    "name": "ipython",
    "version": 3
   },
   "file_extension": ".py",
   "mimetype": "text/x-python",
   "name": "python",
   "nbconvert_exporter": "python",
   "pygments_lexer": "ipython3",
   "version": "3.10.12"
  }
 },
 "nbformat": 4,
 "nbformat_minor": 4
}
